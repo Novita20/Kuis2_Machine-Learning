{
  "cells": [
    {
      "cell_type": "markdown",
      "metadata": {
        "id": "view-in-github",
        "colab_type": "text"
      },
      "source": [
        "<a href=\"https://colab.research.google.com/github/Novita20/Kuis2_Machine-Learning/blob/main/TI-3F_23_Novita%20Dwi%20Rahmadani_Kuis2.ipynb\" target=\"_parent\"><img src=\"https://colab.research.google.com/assets/colab-badge.svg\" alt=\"Open In Colab\"/></a>"
      ]
    },
    {
      "cell_type": "markdown",
      "metadata": {
        "id": "Bij5zU_phlKZ"
      },
      "source": [
        "# **KUIS 2 MECHINE LEARNING**\n",
        "\n",
        "\n",
        "**Nama        : Novita Dwi Rahmadani**\n",
        "\n",
        "**Kelas       : TI-3F**\n",
        "\n",
        "**NIM         : 2141720050**\n"
      ]
    },
    {
      "cell_type": "code",
      "execution_count": 67,
      "metadata": {
        "id": "9Jzw2dvRvr98",
        "colab": {
          "base_uri": "https://localhost:8080/"
        },
        "outputId": "9245bdf2-5b4a-4d09-c7cf-0bdde6d5b061"
      },
      "outputs": [
        {
          "output_type": "stream",
          "name": "stdout",
          "text": [
            "Drive already mounted at /content/drive; to attempt to forcibly remount, call drive.mount(\"/content/drive\", force_remount=True).\n"
          ]
        }
      ],
      "source": [
        "from google.colab import drive\n",
        "drive.mount('/content/drive')"
      ]
    },
    {
      "cell_type": "markdown",
      "metadata": {
        "id": "fLV1Z5_Za3Ni"
      },
      "source": [
        "### Import Library"
      ]
    },
    {
      "cell_type": "code",
      "execution_count": 2,
      "metadata": {
        "id": "TUhYpAeEarrV"
      },
      "outputs": [],
      "source": [
        "# Import library TensorFlow untuk machine learning\n",
        "import tensorflow as tf\n",
        "# Import library NumPy untuk manipulasi data numerik\n",
        "import numpy as np\n",
        "# Import library Pandas untuk manipulasi data tabular\n",
        "import pandas as pd\n",
        "# Import library Matplotlib untuk visualisasi data\n",
        "import matplotlib.pyplot as plt\n",
        "# Import library Seaborn untuk visualisasi data statistik\n",
        "import seaborn as sns\n",
        "# Import class LabelBinarizer dari library scikit-learn untuk konversi label kategori ke one-hot encoding\n",
        "from sklearn.preprocessing import LabelBinarizer\n",
        "# Import fungsi train_test_split dari library scikit-learn untuk pembagian data menjadi data latih dan uji\n",
        "from sklearn.model_selection import train_test_split\n",
        "# Import fungsi classification_report dari library scikit-learn untuk evaluasi performa model\n",
        "from sklearn.metrics import classification_report\n",
        "# Import modul zipfile untuk menangani file arsip zip\n",
        "import zipfile"
      ]
    },
    {
      "cell_type": "markdown",
      "metadata": {
        "id": "N95oXMaTcnMH"
      },
      "source": [
        "# Load Dataset"
      ]
    },
    {
      "cell_type": "markdown",
      "metadata": {
        "id": "dT8TY908cpCK"
      },
      "source": [
        "## Load MNIST"
      ]
    },
    {
      "cell_type": "code",
      "execution_count": 3,
      "metadata": {
        "id": "OIZx2pkUcfDe"
      },
      "outputs": [],
      "source": [
        "from tensorflow.keras.datasets import mnist #mengimpor dataset MNIST dari submodul datasets yang terdapat di dalam pustaka TensorFlow"
      ]
    },
    {
      "cell_type": "code",
      "execution_count": 4,
      "metadata": {
        "colab": {
          "base_uri": "https://localhost:8080/"
        },
        "id": "3GLkzBi6czj4",
        "outputId": "3038c02e-981e-457c-9b46-44d17250cbac"
      },
      "outputs": [
        {
          "output_type": "stream",
          "name": "stdout",
          "text": [
            "Downloading data from https://storage.googleapis.com/tensorflow/tf-keras-datasets/mnist.npz\n",
            "11490434/11490434 [==============================] - 1s 0us/step\n"
          ]
        }
      ],
      "source": [
        "# Memuat data latih dan uji dari dataset MNIST menggunakan fungsi load_data()\n",
        "(train_data, train_labels), (test_data, test_labels) = mnist.load_data()\n",
        "# Variabel train_data berisi gambar-gambar digit untuk pelatihan model\n",
        "# Variabel train_labels berisi label-label yang sesuai dengan gambar-gambar digit pada data latih\n",
        "# Variabel test_data berisi gambar-gambar digit untuk pengujian model\n",
        "# Variabel test_labels berisi label-label yang sesuai dengan gambar-gambar digit pada data uji\n"
      ]
    },
    {
      "cell_type": "code",
      "execution_count": 5,
      "metadata": {
        "colab": {
          "base_uri": "https://localhost:8080/"
        },
        "id": "oVQTyPgAc5Zw",
        "outputId": "3d50ceaf-26f9-42d6-acd5-985f4bdd6ced"
      },
      "outputs": [
        {
          "output_type": "execute_result",
          "data": {
            "text/plain": [
              "((60000, 28, 28), (10000, 28, 28))"
            ]
          },
          "metadata": {},
          "execution_count": 5
        }
      ],
      "source": [
        "# Check shape data\n",
        "(train_data.shape, test_data.shape) ## Memeriksa dimensi (shape) data latih dan data uji"
      ]
    },
    {
      "cell_type": "code",
      "execution_count": 6,
      "metadata": {
        "colab": {
          "base_uri": "https://localhost:8080/"
        },
        "id": "grUhLPwJc-un",
        "outputId": "35ddd4de-0d8c-4b4b-aea8-578463f24b52"
      },
      "outputs": [
        {
          "output_type": "execute_result",
          "data": {
            "text/plain": [
              "((60000,), (10000,))"
            ]
          },
          "metadata": {},
          "execution_count": 6
        }
      ],
      "source": [
        "# cek label\n",
        "# Memeriksa dan menampilkan bentuk (shape) dari data label latih dan uji\n",
        "# `train_labels.shape` mengembalikan bentuk data label latih\n",
        "# `test_labels.shape` mengembalikan bentuk data label uji\n",
        "(train_labels.shape, test_labels.shape)\n"
      ]
    },
    {
      "cell_type": "code",
      "execution_count": 7,
      "metadata": {
        "colab": {
          "base_uri": "https://localhost:8080/"
        },
        "id": "AwsTEu6xdNKX",
        "outputId": "b8cdd8df-0d4b-48b5-b9dd-ee9096a32051"
      },
      "outputs": [
        {
          "output_type": "execute_result",
          "data": {
            "text/plain": [
              "(28, 28)"
            ]
          },
          "metadata": {},
          "execution_count": 7
        }
      ],
      "source": [
        "# Check each data shape --> should be 28*28\n",
        "train_data[0].shape"
      ]
    },
    {
      "cell_type": "code",
      "execution_count": 8,
      "metadata": {
        "colab": {
          "base_uri": "https://localhost:8080/"
        },
        "id": "KHZesdnBdXKX",
        "outputId": "1a92b892-d182-42f7-b052-cfd33e1055c8"
      },
      "outputs": [
        {
          "output_type": "execute_result",
          "data": {
            "text/plain": [
              "(60000,)"
            ]
          },
          "metadata": {},
          "execution_count": 8
        }
      ],
      "source": [
        "# Check the label\n",
        "train_labels.shape # Memeriksa dimensi atau bentuk array train_labels"
      ]
    },
    {
      "cell_type": "markdown",
      "metadata": {
        "id": "SYz8IjnOdfsV"
      },
      "source": [
        "### Combine Train and Test Data"
      ]
    },
    {
      "cell_type": "code",
      "execution_count": 9,
      "metadata": {
        "id": "yacSZjdPdbhs"
      },
      "outputs": [],
      "source": [
        "# Menggabungkan data latih dan uji secara vertikal menggunakan np.vstack\n",
        "digits_data = np.vstack([train_data, test_data])\n",
        "# Menggabungkan label latih dan uji secara horizontal menggunakan np.hstack\n",
        "digits_labels = np.hstack([train_labels, test_labels])\n"
      ]
    },
    {
      "cell_type": "code",
      "execution_count": 10,
      "metadata": {
        "colab": {
          "base_uri": "https://localhost:8080/"
        },
        "id": "oRBvQNVUeHZn",
        "outputId": "b5389633-ae5e-45fa-d358-0fdc470c4da5"
      },
      "outputs": [
        {
          "output_type": "execute_result",
          "data": {
            "text/plain": [
              "(70000, 28, 28)"
            ]
          },
          "metadata": {},
          "execution_count": 10
        }
      ],
      "source": [
        "# Check data shape\n",
        "digits_data.shape ## Memeriksa bentuk (shape) dari data \"digits_data\""
      ]
    },
    {
      "cell_type": "code",
      "execution_count": 11,
      "metadata": {
        "colab": {
          "base_uri": "https://localhost:8080/"
        },
        "id": "MZbUcu0MeLSG",
        "outputId": "11687f14-88ee-4483-8766-35458441c680"
      },
      "outputs": [
        {
          "output_type": "execute_result",
          "data": {
            "text/plain": [
              "(70000,)"
            ]
          },
          "metadata": {},
          "execution_count": 11
        }
      ],
      "source": [
        "# Check label shape\n",
        "digits_labels.shape ## Memeriksa bentuk (shape) dari variabel 'digits_labels'"
      ]
    },
    {
      "cell_type": "code",
      "execution_count": 12,
      "metadata": {
        "colab": {
          "base_uri": "https://localhost:8080/",
          "height": 469
        },
        "id": "uqaiC0pGePF-",
        "outputId": "5f2e3352-8cc6-4a43-c060-d4bf8d2215b1"
      },
      "outputs": [
        {
          "output_type": "execute_result",
          "data": {
            "text/plain": [
              "Text(0.5, 1.0, 'Class: 8')"
            ]
          },
          "metadata": {},
          "execution_count": 12
        },
        {
          "output_type": "display_data",
          "data": {
            "text/plain": [
              "<Figure size 640x480 with 1 Axes>"
            ],
            "image/png": "[encoded data removed]"
          },
          "metadata": {}
        }
      ],
      "source": [
        "# Memilih indeks acak dari data digits\n",
        "idx = np.random.randint(0, digits_data.shape[0])\n",
        "# Menampilkan gambar dengan skala warna abu-abu\n",
        "plt.imshow(digits_data[idx], cmap='gray')\n",
        "# Menambahkan judul berisi kelas dari gambar yang dipilih\n",
        "plt.title('Class: ' + str(digits_labels[idx]))\n"
      ]
    },
    {
      "cell_type": "code",
      "execution_count": 13,
      "metadata": {
        "colab": {
          "base_uri": "https://localhost:8080/",
          "height": 466
        },
        "id": "FrLWteorevqd",
        "outputId": "d24afb80-627e-474d-990e-858a8ea91d52"
      },
      "outputs": [
        {
          "output_type": "execute_result",
          "data": {
            "text/plain": [
              "<Axes: xlabel='Labels', ylabel='count'>"
            ]
          },
          "metadata": {},
          "execution_count": 13
        },
        {
          "output_type": "display_data",
          "data": {
            "text/plain": [
              "<Figure size 640x480 with 1 Axes>"
            ],
            "image/png": "[encoded data removed]"
          },
          "metadata": {}
        }
      ],
      "source": [
        "# Buat DataFrame baru untuk label dari data\n",
        "df_labels = pd.DataFrame(digits_labels, columns=['Labels'])\n",
        "# Visualisasikan distribusi data menggunakan countplot dari Seaborn\n",
        "sns.countplot(df_labels, x='Labels')\n"
      ]
    },
    {
      "cell_type": "markdown",
      "source": [
        "Pada pernyataan pertama, `df_labels = pd.DataFrame(digits_labels, columns=['Labels'])`, sebuah DataFrame baru (`df_labels`) dibuat menggunakan library pandas (dilabeli sebagai `pd`). DataFrame ini dibentuk dari array `digits_labels` dengan satu kolom bernama 'Labels'. DataFrame berguna untuk mempermudah manipulasi dan analisis data.\n",
        "\n",
        "Selanjutnya, pada pernyataan kedua, `sns.countplot(df_labels, x='Labels')`, menggunakan library seaborn (`sns`), kita membuat visualisasi distribusi data menggunakan countplot. Countplot digunakan untuk menghitung dan memvisualisasikan jumlah kemunculan setiap nilai dalam kolom 'Labels' dari DataFrame. Grafik ini memberikan gambaran tentang sebaran frekuensi setiap label dalam dataset, membantu pemahaman terhadap distribusi kelas dan seimbang atau ketidakseimbangannya."
      ],
      "metadata": {
        "id": "l3eUZn3FseY9"
      }
    },
    {
      "cell_type": "markdown",
      "metadata": {
        "id": "uqeJT2ytogB_"
      },
      "source": [
        "## Load Kaggle A-Z"
      ]
    },
    {
      "cell_type": "code",
      "execution_count": 14,
      "metadata": {
        "colab": {
          "base_uri": "https://localhost:8080/"
        },
        "id": "tQ95CkdfjO7P",
        "outputId": "d5b9b9a7-3578-4735-8bf2-fa6693f84766"
      },
      "outputs": [
        {
          "output_type": "stream",
          "name": "stdout",
          "text": [
            "--2023-12-09 16:33:51--  https://iaexpert.academy/arquivos/alfabeto_A-Z.zip\n",
            "Resolving iaexpert.academy (iaexpert.academy)... 162.159.134.42\n",
            "Connecting to iaexpert.academy (iaexpert.academy)|162.159.134.42|:443... connected.\n",
            "HTTP request sent, awaiting response... 200 OK\n",
            "Length: 193643888 (185M) [application/zip]\n",
            "Saving to: ‘alfabeto_A-Z.zip’\n",
            "\n",
            "alfabeto_A-Z.zip    100%[===================>] 184.67M   182MB/s    in 1.0s    \n",
            "\n",
            "2023-12-09 16:33:53 (182 MB/s) - ‘alfabeto_A-Z.zip’ saved [193643888/193643888]\n",
            "\n"
          ]
        }
      ],
      "source": [
        "!wget https://iaexpert.academy/arquivos/alfabeto_A-Z.zip"
      ]
    },
    {
      "cell_type": "code",
      "execution_count": 15,
      "metadata": {
        "id": "TobpFNSsojcv"
      },
      "outputs": [],
      "source": [
        "# Extract zip file\n",
        "zip_object = zipfile.ZipFile(file = 'alfabeto_A-Z.zip', mode = 'r')\n",
        "zip_object.extractall('./')\n",
        "zip_object.close()"
      ]
    },
    {
      "cell_type": "markdown",
      "source": [
        "Pernyataan ini digunakan untuk mengekstrak isi dari suatu file zip dengan nama \"alfabeto_A-Z.zip\". Objek `zipfile.ZipFile` digunakan untuk membuka file zip dalam mode membaca ('r'). Setelah itu, metode `extractall('./')` digunakan untuk mengekstrak semua file dan folder dari zip ke direktori saat ini ('./'). Terakhir, `zip_object.close()` digunakan untuk menutup objek file zip setelah operasi ekstraksi selesai. Dengan demikian, kode ini secara efektif mengekstrak semua konten dari file zip ke dalam direktori saat ini."
      ],
      "metadata": {
        "id": "QPqOzxRKslqi"
      }
    },
    {
      "cell_type": "code",
      "execution_count": 16,
      "metadata": {
        "colab": {
          "base_uri": "https://localhost:8080/",
          "height": 424
        },
        "id": "ScBURU_4o5bB",
        "outputId": "6acc5085-5f7b-47bb-8348-90448d147adc"
      },
      "outputs": [
        {
          "output_type": "execute_result",
          "data": {
            "text/plain": [
              "           0  0.1  0.2  0.3  0.4  0.5  0.6  0.7  0.8  0.9  ...  0.639  0.640  \\\n",
              "0        0.0  0.0  0.0  0.0  0.0  0.0  0.0  0.0  0.0  0.0  ...    0.0    0.0   \n",
              "1        0.0  0.0  0.0  0.0  0.0  0.0  0.0  0.0  0.0  0.0  ...    0.0    0.0   \n",
              "2        0.0  0.0  0.0  0.0  0.0  0.0  0.0  0.0  0.0  0.0  ...    0.0    0.0   \n",
              "3        0.0  0.0  0.0  0.0  0.0  0.0  0.0  0.0  0.0  0.0  ...    0.0    0.0   \n",
              "4        0.0  0.0  0.0  0.0  0.0  0.0  0.0  0.0  0.0  0.0  ...    0.0    0.0   \n",
              "...      ...  ...  ...  ...  ...  ...  ...  ...  ...  ...  ...    ...    ...   \n",
              "372445  25.0  0.0  0.0  0.0  0.0  0.0  0.0  0.0  0.0  0.0  ...    0.0    0.0   \n",
              "372446  25.0  0.0  0.0  0.0  0.0  0.0  0.0  0.0  0.0  0.0  ...    0.0    0.0   \n",
              "372447  25.0  0.0  0.0  0.0  0.0  0.0  0.0  0.0  0.0  0.0  ...    0.0    0.0   \n",
              "372448  25.0  0.0  0.0  0.0  0.0  0.0  0.0  0.0  0.0  0.0  ...    0.0    0.0   \n",
              "372449  25.0  0.0  0.0  0.0  0.0  0.0  0.0  0.0  0.0  0.0  ...    0.0    0.0   \n",
              "\n",
              "        0.641  0.642  0.643  0.644  0.645  0.646  0.647  0.648  \n",
              "0         0.0    0.0    0.0    0.0    0.0    0.0    0.0    0.0  \n",
              "1         0.0    0.0    0.0    0.0    0.0    0.0    0.0    0.0  \n",
              "2         0.0    0.0    0.0    0.0    0.0    0.0    0.0    0.0  \n",
              "3         0.0    0.0    0.0    0.0    0.0    0.0    0.0    0.0  \n",
              "4         0.0    0.0    0.0    0.0    0.0    0.0    0.0    0.0  \n",
              "...       ...    ...    ...    ...    ...    ...    ...    ...  \n",
              "372445    0.0    0.0    0.0    0.0    0.0    0.0    0.0    0.0  \n",
              "372446    0.0    0.0    0.0    0.0    0.0    0.0    0.0    0.0  \n",
              "372447    0.0    0.0    0.0    0.0    0.0    0.0    0.0    0.0  \n",
              "372448    0.0    0.0    0.0    0.0    0.0    0.0    0.0    0.0  \n",
              "372449    0.0    0.0    0.0    0.0    0.0    0.0    0.0    0.0  \n",
              "\n",
              "[372450 rows x 785 columns]"
            ],
            "text/html": [
              "\n",
              "  <div id=\"df-1fc99a13-9a9a-43cd-bc51-102cbe704ada\" class=\"colab-df-container\">\n",
              "    <div>\n",
              "<style scoped>\n",
              "    .dataframe tbody tr th:only-of-type {\n",
              "        vertical-align: middle;\n",
              "    }\n",
              "\n",
              "    .dataframe tbody tr th {\n",
              "        vertical-align: top;\n",
              "    }\n",
              "\n",
              "    .dataframe thead th {\n",
              "        text-align: right;\n",
              "    }\n",
              "</style>\n",
              "<table border=\"1\" class=\"dataframe\">\n",
              "  <thead>\n",
              "    <tr style=\"text-align: right;\">\n",
              "      <th></th>\n",
              "      <th>0</th>\n",
              "      <th>0.1</th>\n",
              "      <th>0.2</th>\n",
              "      <th>0.3</th>\n",
              "      <th>0.4</th>\n",
              "      <th>0.5</th>\n",
              "      <th>0.6</th>\n",
              "      <th>0.7</th>\n",
              "      <th>0.8</th>\n",
              "      <th>0.9</th>\n",
              "      <th>...</th>\n",
              "      <th>0.639</th>\n",
              "      <th>0.640</th>\n",
              "      <th>0.641</th>\n",
              "      <th>0.642</th>\n",
              "      <th>0.643</th>\n",
              "      <th>0.644</th>\n",
              "      <th>0.645</th>\n",
              "      <th>0.646</th>\n",
              "      <th>0.647</th>\n",
              "      <th>0.648</th>\n",
              "    </tr>\n",
              "  </thead>\n",
              "  <tbody>\n",
              "    <tr>\n",
              "      <th>0</th>\n",
              "      <td>0.0</td>\n",
              "      <td>0.0</td>\n",
              "      <td>0.0</td>\n",
              "      <td>0.0</td>\n",
              "      <td>0.0</td>\n",
              "      <td>0.0</td>\n",
              "      <td>0.0</td>\n",
              "      <td>0.0</td>\n",
              "      <td>0.0</td>\n",
              "      <td>0.0</td>\n",
              "      <td>...</td>\n",
              "      <td>0.0</td>\n",
              "      <td>0.0</td>\n",
              "      <td>0.0</td>\n",
              "      <td>0.0</td>\n",
              "      <td>0.0</td>\n",
              "      <td>0.0</td>\n",
              "      <td>0.0</td>\n",
              "      <td>0.0</td>\n",
              "      <td>0.0</td>\n",
              "      <td>0.0</td>\n",
              "    </tr>\n",
              "    <tr>\n",
              "      <th>1</th>\n",
              "      <td>0.0</td>\n",
              "      <td>0.0</td>\n",
              "      <td>0.0</td>\n",
              "      <td>0.0</td>\n",
              "      <td>0.0</td>\n",
              "      <td>0.0</td>\n",
              "      <td>0.0</td>\n",
              "      <td>0.0</td>\n",
              "      <td>0.0</td>\n",
              "      <td>0.0</td>\n",
              "      <td>...</td>\n",
              "      <td>0.0</td>\n",
              "      <td>0.0</td>\n",
              "      <td>0.0</td>\n",
              "      <td>0.0</td>\n",
              "      <td>0.0</td>\n",
              "      <td>0.0</td>\n",
              "      <td>0.0</td>\n",
              "      <td>0.0</td>\n",
              "      <td>0.0</td>\n",
              "      <td>0.0</td>\n",
              "    </tr>\n",
              "    <tr>\n",
              "      <th>2</th>\n",
              "      <td>0.0</td>\n",
              "      <td>0.0</td>\n",
              "      <td>0.0</td>\n",
              "      <td>0.0</td>\n",
              "      <td>0.0</td>\n",
              "      <td>0.0</td>\n",
              "      <td>0.0</td>\n",
              "      <td>0.0</td>\n",
              "      <td>0.0</td>\n",
              "      <td>0.0</td>\n",
              "      <td>...</td>\n",
              "      <td>0.0</td>\n",
              "      <td>0.0</td>\n",
              "      <td>0.0</td>\n",
              "      <td>0.0</td>\n",
              "      <td>0.0</td>\n",
              "      <td>0.0</td>\n",
              "      <td>0.0</td>\n",
              "      <td>0.0</td>\n",
              "      <td>0.0</td>\n",
              "      <td>0.0</td>\n",
              "    </tr>\n",
              "    <tr>\n",
              "      <th>3</th>\n",
              "      <td>0.0</td>\n",
              "      <td>0.0</td>\n",
              "      <td>0.0</td>\n",
              "      <td>0.0</td>\n",
              "      <td>0.0</td>\n",
              "      <td>0.0</td>\n",
              "      <td>0.0</td>\n",
              "      <td>0.0</td>\n",
              "      <td>0.0</td>\n",
              "      <td>0.0</td>\n",
              "      <td>...</td>\n",
              "      <td>0.0</td>\n",
              "      <td>0.0</td>\n",
              "      <td>0.0</td>\n",
              "      <td>0.0</td>\n",
              "      <td>0.0</td>\n",
              "      <td>0.0</td>\n",
              "      <td>0.0</td>\n",
              "      <td>0.0</td>\n",
              "      <td>0.0</td>\n",
              "      <td>0.0</td>\n",
              "    </tr>\n",
              "    <tr>\n",
              "      <th>4</th>\n",
              "      <td>0.0</td>\n",
              "      <td>0.0</td>\n",
              "      <td>0.0</td>\n",
              "      <td>0.0</td>\n",
              "      <td>0.0</td>\n",
              "      <td>0.0</td>\n",
              "      <td>0.0</td>\n",
              "      <td>0.0</td>\n",
              "      <td>0.0</td>\n",
              "      <td>0.0</td>\n",
              "      <td>...</td>\n",
              "      <td>0.0</td>\n",
              "      <td>0.0</td>\n",
              "      <td>0.0</td>\n",
              "      <td>0.0</td>\n",
              "      <td>0.0</td>\n",
              "      <td>0.0</td>\n",
              "      <td>0.0</td>\n",
              "      <td>0.0</td>\n",
              "      <td>0.0</td>\n",
              "      <td>0.0</td>\n",
              "    </tr>\n",
              "    <tr>\n",
              "      <th>...</th>\n",
              "      <td>...</td>\n",
              "      <td>...</td>\n",
              "      <td>...</td>\n",
              "      <td>...</td>\n",
              "      <td>...</td>\n",
              "      <td>...</td>\n",
              "      <td>...</td>\n",
              "      <td>...</td>\n",
              "      <td>...</td>\n",
              "      <td>...</td>\n",
              "      <td>...</td>\n",
              "      <td>...</td>\n",
              "      <td>...</td>\n",
              "      <td>...</td>\n",
              "      <td>...</td>\n",
              "      <td>...</td>\n",
              "      <td>...</td>\n",
              "      <td>...</td>\n",
              "      <td>...</td>\n",
              "      <td>...</td>\n",
              "      <td>...</td>\n",
              "    </tr>\n",
              "    <tr>\n",
              "      <th>372445</th>\n",
              "      <td>25.0</td>\n",
              "      <td>0.0</td>\n",
              "      <td>0.0</td>\n",
              "      <td>0.0</td>\n",
              "      <td>0.0</td>\n",
              "      <td>0.0</td>\n",
              "      <td>0.0</td>\n",
              "      <td>0.0</td>\n",
              "      <td>0.0</td>\n",
              "      <td>0.0</td>\n",
              "      <td>...</td>\n",
              "      <td>0.0</td>\n",
              "      <td>0.0</td>\n",
              "      <td>0.0</td>\n",
              "      <td>0.0</td>\n",
              "      <td>0.0</td>\n",
              "      <td>0.0</td>\n",
              "      <td>0.0</td>\n",
              "      <td>0.0</td>\n",
              "      <td>0.0</td>\n",
              "      <td>0.0</td>\n",
              "    </tr>\n",
              "    <tr>\n",
              "      <th>372446</th>\n",
              "      <td>25.0</td>\n",
              "      <td>0.0</td>\n",
              "      <td>0.0</td>\n",
              "      <td>0.0</td>\n",
              "      <td>0.0</td>\n",
              "      <td>0.0</td>\n",
              "      <td>0.0</td>\n",
              "      <td>0.0</td>\n",
              "      <td>0.0</td>\n",
              "      <td>0.0</td>\n",
              "      <td>...</td>\n",
              "      <td>0.0</td>\n",
              "      <td>0.0</td>\n",
              "      <td>0.0</td>\n",
              "      <td>0.0</td>\n",
              "      <td>0.0</td>\n",
              "      <td>0.0</td>\n",
              "      <td>0.0</td>\n",
              "      <td>0.0</td>\n",
              "      <td>0.0</td>\n",
              "      <td>0.0</td>\n",
              "    </tr>\n",
              "    <tr>\n",
              "      <th>372447</th>\n",
              "      <td>25.0</td>\n",
              "      <td>0.0</td>\n",
              "      <td>0.0</td>\n",
              "      <td>0.0</td>\n",
              "      <td>0.0</td>\n",
              "      <td>0.0</td>\n",
              "      <td>0.0</td>\n",
              "      <td>0.0</td>\n",
              "      <td>0.0</td>\n",
              "      <td>0.0</td>\n",
              "      <td>...</td>\n",
              "      <td>0.0</td>\n",
              "      <td>0.0</td>\n",
              "      <td>0.0</td>\n",
              "      <td>0.0</td>\n",
              "      <td>0.0</td>\n",
              "      <td>0.0</td>\n",
              "      <td>0.0</td>\n",
              "      <td>0.0</td>\n",
              "      <td>0.0</td>\n",
              "      <td>0.0</td>\n",
              "    </tr>\n",
              "    <tr>\n",
              "      <th>372448</th>\n",
              "      <td>25.0</td>\n",
              "      <td>0.0</td>\n",
              "      <td>0.0</td>\n",
              "      <td>0.0</td>\n",
              "      <td>0.0</td>\n",
              "      <td>0.0</td>\n",
              "      <td>0.0</td>\n",
              "      <td>0.0</td>\n",
              "      <td>0.0</td>\n",
              "      <td>0.0</td>\n",
              "      <td>...</td>\n",
              "      <td>0.0</td>\n",
              "      <td>0.0</td>\n",
              "      <td>0.0</td>\n",
              "      <td>0.0</td>\n",
              "      <td>0.0</td>\n",
              "      <td>0.0</td>\n",
              "      <td>0.0</td>\n",
              "      <td>0.0</td>\n",
              "      <td>0.0</td>\n",
              "      <td>0.0</td>\n",
              "    </tr>\n",
              "    <tr>\n",
              "      <th>372449</th>\n",
              "      <td>25.0</td>\n",
              "      <td>0.0</td>\n",
              "      <td>0.0</td>\n",
              "      <td>0.0</td>\n",
              "      <td>0.0</td>\n",
              "      <td>0.0</td>\n",
              "      <td>0.0</td>\n",
              "      <td>0.0</td>\n",
              "      <td>0.0</td>\n",
              "      <td>0.0</td>\n",
              "      <td>...</td>\n",
              "      <td>0.0</td>\n",
              "      <td>0.0</td>\n",
              "      <td>0.0</td>\n",
              "      <td>0.0</td>\n",
              "      <td>0.0</td>\n",
              "      <td>0.0</td>\n",
              "      <td>0.0</td>\n",
              "      <td>0.0</td>\n",
              "      <td>0.0</td>\n",
              "      <td>0.0</td>\n",
              "    </tr>\n",
              "  </tbody>\n",
              "</table>\n",
              "<p>372450 rows × 785 columns</p>\n",
              "</div>\n",
              "    <div class=\"colab-df-buttons\">\n",
              "\n",
              "  <div class=\"colab-df-container\">\n",
              "    <button class=\"colab-df-convert\" onclick=\"convertToInteractive('df-1fc99a13-9a9a-43cd-bc51-102cbe704ada')\"\n",
              "            title=\"Convert this dataframe to an interactive table.\"\n",
              "            style=\"display:none;\">\n",
              "\n",
              "  <svg xmlns=\"http://www.w3.org/2000/svg\" height=\"24px\" viewBox=\"0 -960 960 960\">\n",
              "    <path d=\"M120-120v-720h720v720H120Zm60-500h600v-160H180v160Zm220 220h160v-160H400v160Zm0 220h160v-160H400v160ZM180-400h160v-160H180v160Zm440 0h160v-160H620v160ZM180-180h160v-160H180v160Zm440 0h160v-160H620v160Z\"/>\n",
              "  </svg>\n",
              "    </button>\n",
              "\n",
              "  <style>\n",
              "    .colab-df-container {\n",
              "      display:flex;\n",
              "      gap: 12px;\n",
              "    }\n",
              "\n",
              "    .colab-df-convert {\n",
              "      background-color: #E8F0FE;\n",
              "      border: none;\n",
              "      border-radius: 50%;\n",
              "      cursor: pointer;\n",
              "      display: none;\n",
              "      fill: #1967D2;\n",
              "      height: 32px;\n",
              "      padding: 0 0 0 0;\n",
              "      width: 32px;\n",
              "    }\n",
              "\n",
              "    .colab-df-convert:hover {\n",
              "      background-color: #E2EBFA;\n",
              "      box-shadow: 0px 1px 2px rgba(60, 64, 67, 0.3), 0px 1px 3px 1px rgba(60, 64, 67, 0.15);\n",
              "      fill: #174EA6;\n",
              "    }\n",
              "\n",
              "    .colab-df-buttons div {\n",
              "      margin-bottom: 4px;\n",
              "    }\n",
              "\n",
              "    [theme=dark] .colab-df-convert {\n",
              "      background-color: #3B4455;\n",
              "      fill: #D2E3FC;\n",
              "    }\n",
              "\n",
              "    [theme=dark] .colab-df-convert:hover {\n",
              "      background-color: #434B5C;\n",
              "      box-shadow: 0px 1px 3px 1px rgba(0, 0, 0, 0.15);\n",
              "      filter: drop-shadow(0px 1px 2px rgba(0, 0, 0, 0.3));\n",
              "      fill: #FFFFFF;\n",
              "    }\n",
              "  </style>\n",
              "\n",
              "    <script>\n",
              "      const buttonEl =\n",
              "        document.querySelector('#df-1fc99a13-9a9a-43cd-bc51-102cbe704ada button.colab-df-convert');\n",
              "      buttonEl.style.display =\n",
              "        google.colab.kernel.accessAllowed ? 'block' : 'none';\n",
              "\n",
              "      async function convertToInteractive(key) {\n",
              "        const element = document.querySelector('#df-1fc99a13-9a9a-43cd-bc51-102cbe704ada');\n",
              "        const dataTable =\n",
              "          await google.colab.kernel.invokeFunction('convertToInteractive',\n",
              "                                                    [key], {});\n",
              "        if (!dataTable) return;\n",
              "\n",
              "        const docLinkHtml = 'Like what you see? Visit the ' +\n",
              "          '<a target=\"_blank\" href=https://colab.research.google.com/notebooks/data_table.ipynb>data table notebook</a>'\n",
              "          + ' to learn more about interactive tables.';\n",
              "        element.innerHTML = '';\n",
              "        dataTable['output_type'] = 'display_data';\n",
              "        await google.colab.output.renderOutput(dataTable, element);\n",
              "        const docLink = document.createElement('div');\n",
              "        docLink.innerHTML = docLinkHtml;\n",
              "        element.appendChild(docLink);\n",
              "      }\n",
              "    </script>\n",
              "  </div>\n",
              "\n",
              "\n",
              "<div id=\"df-c727dd77-fbc6-4fa6-b69f-abca481e4b4f\">\n",
              "  <button class=\"colab-df-quickchart\" onclick=\"quickchart('df-c727dd77-fbc6-4fa6-b69f-abca481e4b4f')\"\n",
              "            title=\"Suggest charts\"\n",
              "            style=\"display:none;\">\n",
              "\n",
              "<svg xmlns=\"http://www.w3.org/2000/svg\" height=\"24px\"viewBox=\"0 0 24 24\"\n",
              "     width=\"24px\">\n",
              "    <g>\n",
              "        <path d=\"M19 3H5c-1.1 0-2 .9-2 2v14c0 1.1.9 2 2 2h14c1.1 0 2-.9 2-2V5c0-1.1-.9-2-2-2zM9 17H7v-7h2v7zm4 0h-2V7h2v10zm4 0h-2v-4h2v4z\"/>\n",
              "    </g>\n",
              "</svg>\n",
              "  </button>\n",
              "\n",
              "<style>\n",
              "  .colab-df-quickchart {\n",
              "      --bg-color: #E8F0FE;\n",
              "      --fill-color: #1967D2;\n",
              "      --hover-bg-color: #E2EBFA;\n",
              "      --hover-fill-color: #174EA6;\n",
              "      --disabled-fill-color: #AAA;\n",
              "      --disabled-bg-color: #DDD;\n",
              "  }\n",
              "\n",
              "  [theme=dark] .colab-df-quickchart {\n",
              "      --bg-color: #3B4455;\n",
              "      --fill-color: #D2E3FC;\n",
              "      --hover-bg-color: #434B5C;\n",
              "      --hover-fill-color: #FFFFFF;\n",
              "      --disabled-bg-color: #3B4455;\n",
              "      --disabled-fill-color: #666;\n",
              "  }\n",
              "\n",
              "  .colab-df-quickchart {\n",
              "    background-color: var(--bg-color);\n",
              "    border: none;\n",
              "    border-radius: 50%;\n",
              "    cursor: pointer;\n",
              "    display: none;\n",
              "    fill: var(--fill-color);\n",
              "    height: 32px;\n",
              "    padding: 0;\n",
              "    width: 32px;\n",
              "  }\n",
              "\n",
              "  .colab-df-quickchart:hover {\n",
              "    background-color: var(--hover-bg-color);\n",
              "    box-shadow: 0 1px 2px rgba(60, 64, 67, 0.3), 0 1px 3px 1px rgba(60, 64, 67, 0.15);\n",
              "    fill: var(--button-hover-fill-color);\n",
              "  }\n",
              "\n",
              "  .colab-df-quickchart-complete:disabled,\n",
              "  .colab-df-quickchart-complete:disabled:hover {\n",
              "    background-color: var(--disabled-bg-color);\n",
              "    fill: var(--disabled-fill-color);\n",
              "    box-shadow: none;\n",
              "  }\n",
              "\n",
              "  .colab-df-spinner {\n",
              "    border: 2px solid var(--fill-color);\n",
              "    border-color: transparent;\n",
              "    border-bottom-color: var(--fill-color);\n",
              "    animation:\n",
              "      spin 1s steps(1) infinite;\n",
              "  }\n",
              "\n",
              "  @keyframes spin {\n",
              "    0% {\n",
              "      border-color: transparent;\n",
              "      border-bottom-color: var(--fill-color);\n",
              "      border-left-color: var(--fill-color);\n",
              "    }\n",
              "    20% {\n",
              "      border-color: transparent;\n",
              "      border-left-color: var(--fill-color);\n",
              "      border-top-color: var(--fill-color);\n",
              "    }\n",
              "    30% {\n",
              "      border-color: transparent;\n",
              "      border-left-color: var(--fill-color);\n",
              "      border-top-color: var(--fill-color);\n",
              "      border-right-color: var(--fill-color);\n",
              "    }\n",
              "    40% {\n",
              "      border-color: transparent;\n",
              "      border-right-color: var(--fill-color);\n",
              "      border-top-color: var(--fill-color);\n",
              "    }\n",
              "    60% {\n",
              "      border-color: transparent;\n",
              "      border-right-color: var(--fill-color);\n",
              "    }\n",
              "    80% {\n",
              "      border-color: transparent;\n",
              "      border-right-color: var(--fill-color);\n",
              "      border-bottom-color: var(--fill-color);\n",
              "    }\n",
              "    90% {\n",
              "      border-color: transparent;\n",
              "      border-bottom-color: var(--fill-color);\n",
              "    }\n",
              "  }\n",
              "</style>\n",
              "\n",
              "  <script>\n",
              "    async function quickchart(key) {\n",
              "      const quickchartButtonEl =\n",
              "        document.querySelector('#' + key + ' button');\n",
              "      quickchartButtonEl.disabled = true;  // To prevent multiple clicks.\n",
              "      quickchartButtonEl.classList.add('colab-df-spinner');\n",
              "      try {\n",
              "        const charts = await google.colab.kernel.invokeFunction(\n",
              "            'suggestCharts', [key], {});\n",
              "      } catch (error) {\n",
              "        console.error('Error during call to suggestCharts:', error);\n",
              "      }\n",
              "      quickchartButtonEl.classList.remove('colab-df-spinner');\n",
              "      quickchartButtonEl.classList.add('colab-df-quickchart-complete');\n",
              "    }\n",
              "    (() => {\n",
              "      let quickchartButtonEl =\n",
              "        document.querySelector('#df-c727dd77-fbc6-4fa6-b69f-abca481e4b4f button');\n",
              "      quickchartButtonEl.style.display =\n",
              "        google.colab.kernel.accessAllowed ? 'block' : 'none';\n",
              "    })();\n",
              "  </script>\n",
              "</div>\n",
              "    </div>\n",
              "  </div>\n"
            ]
          },
          "metadata": {},
          "execution_count": 16
        }
      ],
      "source": [
        "# Membaca dataset dari file CSV 'A_Z Handwritten Data.csv' dan mengonversi tipe data menjadi float32\n",
        "dataset_az = pd.read_csv('A_Z Handwritten Data.csv').astype('float32')\n",
        "# Menampilkan dataset\n",
        "dataset_az\n"
      ]
    },
    {
      "cell_type": "markdown",
      "source": [
        "Pernyataan pertama, `dataset_az = pd.read_csv('A_Z Handwritten Data.csv').astype('float32')`, membaca dataset dari file CSV bernama 'A_Z Handwritten Data.csv' menggunakan library pandas (`pd`). Kemudian, seluruh tipe data dalam dataset diubah menjadi float32 menggunakan metode `astype('float32')`.\n",
        "\n",
        "Pernyataan kedua, `dataset_az`, digunakan untuk menampilkan isi dari dataset yang telah dibaca dan diubah tipe datanya. Dengan ini, kita dapat melihat struktur dan nilai-nilai dalam dataset 'A_Z Handwritten Data.csv'."
      ],
      "metadata": {
        "id": "9mfcbkFftGAC"
      }
    },
    {
      "cell_type": "code",
      "execution_count": 17,
      "metadata": {
        "id": "dK6pP0b-o81T"
      },
      "outputs": [],
      "source": [
        "# Mendapatkan data piksel dari dataset tanpa kolom '0'\n",
        "alphabet_data = dataset_az.drop('0', axis=1)\n",
        "# Mendapatkan label dari dataset hanya pada kolom '0'\n",
        "alphabet_labels = dataset_az['0']\n"
      ]
    },
    {
      "cell_type": "markdown",
      "source": [
        "Pernyataan pertama, `alphabet_data = dataset_az.drop('0', axis=1)`, bertujuan untuk mendapatkan data piksel dari dataset `dataset_az` tanpa menyertakan kolom dengan nama '0'. Fungsi `drop` digunakan untuk menghapus kolom dengan nama yang diberikan, dan `axis=1` menunjukkan bahwa yang dihapus adalah kolom, bukan baris.\n",
        "\n",
        "Pernyataan kedua, `alphabet_labels = dataset_az['0']`, bertujuan untuk mendapatkan label dari dataset `dataset_az` hanya pada kolom dengan nama '0'. Dengan menggunakan indeks '0', pernyataan ini mengambil kolom label dari dataset. Dengan cara ini, data piksel dan label dipisahkan untuk digunakan dalam pelatihan atau evaluasi model."
      ],
      "metadata": {
        "id": "XKNxJfqmsua5"
      }
    },
    {
      "cell_type": "code",
      "execution_count": 18,
      "metadata": {
        "colab": {
          "base_uri": "https://localhost:8080/"
        },
        "id": "NllEoaiLpZhI",
        "outputId": "dfca7356-04b7-4e40-fa8f-412892a44194"
      },
      "outputs": [
        {
          "output_type": "execute_result",
          "data": {
            "text/plain": [
              "((372450, 784), (372450,))"
            ]
          },
          "metadata": {},
          "execution_count": 18
        }
      ],
      "source": [
        "# Memeriksa dimensi data (bentuk atau shape) dari variabel alphabet_data dan alphabet_labels\n",
        "alphabet_data.shape, alphabet_labels.shape"
      ]
    },
    {
      "cell_type": "code",
      "execution_count": 19,
      "metadata": {
        "colab": {
          "base_uri": "https://localhost:8080/"
        },
        "id": "UvE88zSkpe5e",
        "outputId": "7d55c823-e3e4-43a2-b9c3-b9e9e82e385f"
      },
      "outputs": [
        {
          "output_type": "execute_result",
          "data": {
            "text/plain": [
              "(372450,)"
            ]
          },
          "metadata": {},
          "execution_count": 19
        }
      ],
      "source": [
        "# Memeriksa bentuk (shape) dari variabel 'alphabet_labels'\n",
        "alphabet_labels.shape\n"
      ]
    },
    {
      "cell_type": "code",
      "execution_count": 20,
      "metadata": {
        "colab": {
          "base_uri": "https://localhost:8080/"
        },
        "id": "9xps-5kjpio_",
        "outputId": "207ba987-fc31-4d12-f908-7bc9fe9ba1a1"
      },
      "outputs": [
        {
          "output_type": "execute_result",
          "data": {
            "text/plain": [
              "(372450, 28, 28)"
            ]
          },
          "metadata": {},
          "execution_count": 20
        }
      ],
      "source": [
        "\n",
        "# Melakukan reshape data piksel menjadi matriks 28x28\n",
        "alphabet_data = np.reshape(alphabet_data.values, (alphabet_data.shape[0], 28, 28))\n",
        "# Memeriksa hasil reshape dengan melihat dimensinya\n",
        "alphabet_data.shape\n"
      ]
    },
    {
      "cell_type": "code",
      "execution_count": 21,
      "metadata": {
        "colab": {
          "base_uri": "https://localhost:8080/",
          "height": 469
        },
        "id": "tDTBbWSoqloX",
        "outputId": "0d564538-215f-48ec-f7fc-812302fa8594"
      },
      "outputs": [
        {
          "output_type": "execute_result",
          "data": {
            "text/plain": [
              "Text(0.5, 1.0, 'Class: 14.0')"
            ]
          },
          "metadata": {},
          "execution_count": 21
        },
        {
          "output_type": "display_data",
          "data": {
            "text/plain": [
              "<Figure size 640x480 with 1 Axes>"
            ],
            "image/png": "[encoded data removed]"
          },
          "metadata": {}
        }
      ],
      "source": [
        "# Memilih indeks acak dari dataset A-Z\n",
        "index = np.random.randint(0, alphabet_data.shape[0])\n",
        "# Menampilkan gambar dari dataset dengan skala abu-abu\n",
        "plt.imshow(alphabet_data[index], cmap='gray')\n",
        "# Menambahkan judul gambar dengan label kelas yang sesuai\n",
        "plt.title('Class: ' + str(alphabet_labels[index]))\n"
      ]
    },
    {
      "cell_type": "code",
      "execution_count": 22,
      "metadata": {
        "colab": {
          "base_uri": "https://localhost:8080/",
          "height": 468
        },
        "id": "72frSp_uqrjm",
        "outputId": "fc12b257-5590-4d3a-bef2-f734d4203d9d"
      },
      "outputs": [
        {
          "output_type": "execute_result",
          "data": {
            "text/plain": [
              "<Axes: xlabel='Labels', ylabel='count'>"
            ]
          },
          "metadata": {},
          "execution_count": 22
        },
        {
          "output_type": "display_data",
          "data": {
            "text/plain": [
              "<Figure size 640x480 with 1 Axes>"
            ],
            "image/png": "[encoded data removed]"
          },
          "metadata": {}
        }
      ],
      "source": [
        "# Membuat DataFrame baru untuk menampung label abjad\n",
        "df_az_labels = pd.DataFrame({\n",
        "    'Labels': alphabet_labels.values\n",
        "})\n",
        "# Menampilkan distribusi label menggunakan countplot dari Seaborn\n",
        "sns.countplot(df_az_labels, x='Labels')\n"
      ]
    },
    {
      "cell_type": "markdown",
      "source": [
        "Pada pernyataan pertama, `df_az_labels = pd.DataFrame({'Labels': alphabet_labels.values})`, sebuah DataFrame baru (`df_az_labels`) dibuat menggunakan library pandas (`pd`). DataFrame ini dibentuk dari nilai-nilai label yang diambil dari variabel `alphabet_labels` dan diberi nama kolom 'Labels'. DataFrame digunakan untuk mempermudah analisis dan manipulasi data.\n",
        "\n",
        "Selanjutnya, pada pernyataan kedua, `sns.countplot(df_az_labels, x='Labels')`, menggunakan library seaborn (`sns`), kita membuat visualisasi distribusi label menggunakan countplot. Countplot digunakan untuk menghitung dan memvisualisasikan jumlah kemunculan setiap nilai dalam kolom 'Labels' dari DataFrame. Grafik ini memberikan gambaran tentang sebaran frekuensi setiap label dalam dataset, membantu pemahaman terhadap distribusi kelas dan seimbang atau ketidakseimbangannya."
      ],
      "metadata": {
        "id": "xAd61fv2tJTw"
      }
    },
    {
      "cell_type": "markdown",
      "metadata": {
        "id": "YZf14K79sdEC"
      },
      "source": [
        "## Combine Dataset (MNIST + Kaggel A-Z)"
      ]
    },
    {
      "cell_type": "code",
      "execution_count": 23,
      "metadata": {
        "colab": {
          "base_uri": "https://localhost:8080/"
        },
        "id": "9voZzZ8Krqk4",
        "outputId": "063655be-1ce4-4e0e-acac-1a8455b4c02e"
      },
      "outputs": [
        {
          "output_type": "execute_result",
          "data": {
            "text/plain": [
              "array([0, 1, 2, 3, 4, 5, 6, 7, 8, 9], dtype=uint8)"
            ]
          },
          "metadata": {},
          "execution_count": 23
        }
      ],
      "source": [
        "# Misalkan Anda memiliki variabel 'labels' sebagai pengganti 'digits_labels'\n",
        "np.unique(digits_labels)\n",
        "\n",
        "#Menggunakan NumPy, perintah ini digunakan untuk mengecek nilai unik yang terdapat\n",
        "#dalam array 'digits_labels'. Fungsi np.unique() mengembalikan nilai-nilai unik yang ada dalam array tersebut."
      ]
    },
    {
      "cell_type": "code",
      "execution_count": 24,
      "metadata": {
        "colab": {
          "base_uri": "https://localhost:8080/"
        },
        "id": "9ZzBJFKxs1AF",
        "outputId": "2df51f25-cfb1-4521-c7ac-0d95ea9ac6e3"
      },
      "outputs": [
        {
          "output_type": "execute_result",
          "data": {
            "text/plain": [
              "array([ 0.,  1.,  2.,  3.,  4.,  5.,  6.,  7.,  8.,  9., 10., 11., 12.,\n",
              "       13., 14., 15., 16., 17., 18., 19., 20., 21., 22., 23., 24., 25.],\n",
              "      dtype=float32)"
            ]
          },
          "metadata": {},
          "execution_count": 24
        }
      ],
      "source": [
        "# Check unique value from alphabet_labels\n",
        "np.unique(alphabet_labels)"
      ]
    },
    {
      "cell_type": "code",
      "execution_count": 25,
      "metadata": {
        "id": "dM0GV8lIsnzf"
      },
      "outputs": [],
      "source": [
        "# We already know that digits labels containt labels from 0-9 (10 labels)\n",
        "# We also know that alphabet labels start from 0-25 which represent A-Z\n",
        "# If we want to combine them, the A-Z labels should continuing the digits label\n",
        "\n",
        "alphabet_labels += 10"
      ]
    },
    {
      "cell_type": "code",
      "execution_count": 26,
      "metadata": {
        "colab": {
          "base_uri": "https://localhost:8080/"
        },
        "id": "42YKtJB-tQC6",
        "outputId": "a1a0541e-2c84-44cb-a8d9-9958a156492a"
      },
      "outputs": [
        {
          "output_type": "execute_result",
          "data": {
            "text/plain": [
              "array([10., 11., 12., 13., 14., 15., 16., 17., 18., 19., 20., 21., 22.,\n",
              "       23., 24., 25., 26., 27., 28., 29., 30., 31., 32., 33., 34., 35.],\n",
              "      dtype=float32)"
            ]
          },
          "metadata": {},
          "execution_count": 26
        }
      ],
      "source": [
        "# check alphabet labels again\n",
        "np.unique(alphabet_labels)"
      ]
    },
    {
      "cell_type": "code",
      "execution_count": 27,
      "metadata": {
        "id": "1ydXPXiItVVS"
      },
      "outputs": [],
      "source": [
        "# Combine both of them\n",
        "data = np.vstack([alphabet_data, digits_data])\n",
        "labels = np.hstack([alphabet_labels, digits_labels])"
      ]
    },
    {
      "cell_type": "code",
      "execution_count": 28,
      "metadata": {
        "colab": {
          "base_uri": "https://localhost:8080/"
        },
        "id": "-vYLoXFjuLz7",
        "outputId": "a3f46d39-0cc8-4489-f329-97d2b63f3ba6"
      },
      "outputs": [
        {
          "output_type": "execute_result",
          "data": {
            "text/plain": [
              "((442450, 28, 28), (442450,))"
            ]
          },
          "metadata": {},
          "execution_count": 28
        }
      ],
      "source": [
        "# Check the shape\n",
        "data.shape, labels.shape"
      ]
    },
    {
      "cell_type": "code",
      "execution_count": 29,
      "metadata": {
        "colab": {
          "base_uri": "https://localhost:8080/"
        },
        "id": "biyM6WueuRG6",
        "outputId": "ba5e745b-d9cc-48de-af03-905c7fd29952"
      },
      "outputs": [
        {
          "output_type": "execute_result",
          "data": {
            "text/plain": [
              "array([ 0.,  1.,  2.,  3.,  4.,  5.,  6.,  7.,  8.,  9., 10., 11., 12.,\n",
              "       13., 14., 15., 16., 17., 18., 19., 20., 21., 22., 23., 24., 25.,\n",
              "       26., 27., 28., 29., 30., 31., 32., 33., 34., 35.], dtype=float32)"
            ]
          },
          "metadata": {},
          "execution_count": 29
        }
      ],
      "source": [
        "# Check labels\n",
        "np.unique(labels)"
      ]
    },
    {
      "cell_type": "code",
      "execution_count": 30,
      "metadata": {
        "id": "vuEt24lhuVfy"
      },
      "outputs": [],
      "source": [
        "# Convert data to float32\n",
        "data = np.array(data, dtype = 'float32')"
      ]
    },
    {
      "cell_type": "code",
      "execution_count": 31,
      "metadata": {
        "colab": {
          "base_uri": "https://localhost:8080/"
        },
        "id": "UC6Vhz59ucdR",
        "outputId": "bb05900d-3477-4c33-9ec2-6b7248df0fe3"
      },
      "outputs": [
        {
          "output_type": "execute_result",
          "data": {
            "text/plain": [
              "(442450, 28, 28, 1)"
            ]
          },
          "metadata": {},
          "execution_count": 31
        }
      ],
      "source": [
        "# Since Convolutional need 3d data (including depth)\n",
        "# and our images only in 2d data (because in grayscale format)\n",
        "# we need to add \"the depth\" to the data\n",
        "data = np.expand_dims(data, axis=-1)\n",
        "\n",
        "# check shape\n",
        "data.shape"
      ]
    },
    {
      "cell_type": "markdown",
      "metadata": {
        "id": "xF71lXtSu3YE"
      },
      "source": [
        "# Preprocessing"
      ]
    },
    {
      "cell_type": "code",
      "execution_count": 32,
      "metadata": {
        "id": "kFjjP_JLuzbm"
      },
      "outputs": [],
      "source": [
        "# Normalize data\n",
        "data /= 255.0"
      ]
    },
    {
      "cell_type": "code",
      "execution_count": 33,
      "metadata": {
        "colab": {
          "base_uri": "https://localhost:8080/"
        },
        "id": "zztStKZOu-Dy",
        "outputId": "a54add17-ff23-42ef-fe45-35301949d99f"
      },
      "outputs": [
        {
          "output_type": "execute_result",
          "data": {
            "text/plain": [
              "(0.0, 1.0)"
            ]
          },
          "metadata": {},
          "execution_count": 33
        }
      ],
      "source": [
        "# Check range value of data\n",
        "data[0].min(), data[0].max()"
      ]
    },
    {
      "cell_type": "code",
      "execution_count": 34,
      "metadata": {
        "id": "s2C5yKEGu7vt"
      },
      "outputs": [],
      "source": [
        "# Enconde the labels\n",
        "# LabelBinarizer similar with OneHotEncoder\n",
        "le = LabelBinarizer()\n",
        "labels = le.fit_transform(labels)"
      ]
    },
    {
      "cell_type": "code",
      "execution_count": 35,
      "metadata": {
        "colab": {
          "base_uri": "https://localhost:8080/"
        },
        "id": "Bo1M5YEmvg5x",
        "outputId": "7a765896-5b39-4f46-937c-ad9ff602acb7"
      },
      "outputs": [
        {
          "output_type": "execute_result",
          "data": {
            "text/plain": [
              "(442450, 36)"
            ]
          },
          "metadata": {},
          "execution_count": 35
        }
      ],
      "source": [
        "# Check labels shape\n",
        "labels.shape"
      ]
    },
    {
      "cell_type": "code",
      "execution_count": 36,
      "metadata": {
        "colab": {
          "base_uri": "https://localhost:8080/",
          "height": 469
        },
        "id": "jCL5ipbsvjpw",
        "outputId": "5dbbdd68-14ef-46b8-acef-383700a865c7"
      },
      "outputs": [
        {
          "output_type": "execute_result",
          "data": {
            "text/plain": [
              "Text(0.5, 1.0, '[0 0 0 0 0 0 0 0 0 0 1 0 0 0 0 0 0 0 0 0 0 0 0 0 0 0 0 0 0 0 0 0 0 0 0 0]')"
            ]
          },
          "metadata": {},
          "execution_count": 36
        },
        {
          "output_type": "display_data",
          "data": {
            "text/plain": [
              "<Figure size 640x480 with 1 Axes>"
            ],
            "image/png": "[encoded data removed]"
          },
          "metadata": {}
        }
      ],
      "source": [
        "# Check data with label binarizer's label\n",
        "plt.imshow(data[30000].reshape(28,28), cmap='gray')\n",
        "plt.title(str(labels[0]))"
      ]
    },
    {
      "cell_type": "code",
      "execution_count": 37,
      "metadata": {
        "colab": {
          "base_uri": "https://localhost:8080/"
        },
        "id": "njDbZXKzvsx2",
        "outputId": "797da04f-feed-442a-876b-2e8f695083bc"
      },
      "outputs": [
        {
          "output_type": "execute_result",
          "data": {
            "text/plain": [
              "array([ 6903,  7877,  6990,  7141,  6824,  6313,  6876,  7293,  6825,\n",
              "        6958, 13869,  8668, 23409, 10134, 11440,  1163,  5762,  7218,\n",
              "        1120,  8493,  5603, 11586, 12336, 19010, 57825, 19341,  5812,\n",
              "       11566, 48419, 22495, 29008,  4182, 10784,  6272, 10859,  6076])"
            ]
          },
          "metadata": {},
          "execution_count": 37
        }
      ],
      "source": [
        "# Since our data is not balance, we will handle it by giving weight for 'small' data\n",
        "\n",
        "# Check number of data for each labels first\n",
        "classes_total = labels.sum(axis = 0)\n",
        "classes_total"
      ]
    },
    {
      "cell_type": "markdown",
      "source": [
        "Pernyataan ini adalah komentar yang memberikan konteks untuk menangani ketidakseimbangan dalam data. Kode di bawahnya `classes_total = labels.sum(axis=0)` bertujuan untuk menghitung jumlah data untuk setiap kelas atau label dalam dataset. Dengan menggabungkan `axis=0`, pernyataan ini menghasilkan total data untuk setiap label pada dataset, memberikan wawasan tentang seberapa seimbang atau tidak seimbangnya distribusi data antar kelas. Langkah ini berguna untuk memahami apakah perlu diterapkan pembobotan (weighting) pada data untuk mengatasi ketidakseimbangan tersebut. Jika beberapa kelas memiliki jumlah data yang lebih sedikit, pembobotan dapat diterapkan untuk memberikan bobot lebih besar kepada kelas-kelas yang kurang mewakili, sehingga model dapat lebih memperhatikan kelas-kelas tersebut selama pelatihan."
      ],
      "metadata": {
        "id": "33zZqjiKsBC3"
      }
    },
    {
      "cell_type": "code",
      "execution_count": 38,
      "metadata": {
        "colab": {
          "base_uri": "https://localhost:8080/"
        },
        "id": "R1hHYtGLv_ZO",
        "outputId": "2b6024cc-8431-4967-b7f5-6e400f261266"
      },
      "outputs": [
        {
          "output_type": "execute_result",
          "data": {
            "text/plain": [
              "57825"
            ]
          },
          "metadata": {},
          "execution_count": 38
        }
      ],
      "source": [
        "# Check the biggest value of data\n",
        "classes_total.max()"
      ]
    },
    {
      "cell_type": "code",
      "execution_count": 39,
      "metadata": {
        "colab": {
          "base_uri": "https://localhost:8080/"
        },
        "id": "7TJFrxS2wFTO",
        "outputId": "07917c3c-497f-491b-c90f-610973d12df1"
      },
      "outputs": [
        {
          "output_type": "execute_result",
          "data": {
            "text/plain": [
              "{0: 8.376792698826597,\n",
              " 1: 7.340992763742541,\n",
              " 2: 8.272532188841202,\n",
              " 3: 8.097605377398123,\n",
              " 4: 8.473769050410317,\n",
              " 5: 9.15967052114684,\n",
              " 6: 8.409685863874346,\n",
              " 7: 7.928835870012341,\n",
              " 8: 8.472527472527473,\n",
              " 9: 8.310577752227651,\n",
              " 10: 4.169370538611291,\n",
              " 11: 6.671089063221043,\n",
              " 12: 2.4702037677816224,\n",
              " 13: 5.7060390763765545,\n",
              " 14: 5.0546328671328675,\n",
              " 15: 49.72055030094583,\n",
              " 16: 10.035577924331829,\n",
              " 17: 8.011221945137157,\n",
              " 18: 51.629464285714285,\n",
              " 19: 6.808548216178029,\n",
              " 20: 10.320364090665715,\n",
              " 21: 4.990937338166753,\n",
              " 22: 4.6875,\n",
              " 23: 3.0418200946870066,\n",
              " 24: 1.0,\n",
              " 25: 2.989762680316426,\n",
              " 26: 9.94924294562973,\n",
              " 27: 4.999567698426422,\n",
              " 28: 1.1942625828703608,\n",
              " 29: 2.5705712380529007,\n",
              " 30: 1.993415609487038,\n",
              " 31: 13.827116212338593,\n",
              " 32: 5.362110534124629,\n",
              " 33: 9.21954719387755,\n",
              " 34: 5.3250759738465785,\n",
              " 35: 9.51695194206715}"
            ]
          },
          "metadata": {},
          "execution_count": 39
        }
      ],
      "source": [
        "# Create a weight for each data\n",
        "classes_weights = {}\n",
        "for i in range(0, len(classes_total)):\n",
        "  #print(i)\n",
        "  classes_weights[i] = classes_total.max() / classes_total[i]\n",
        "\n",
        "# Check the weight for each data\n",
        "classes_weights"
      ]
    },
    {
      "cell_type": "markdown",
      "metadata": {
        "id": "r2jTunRFIkZA"
      },
      "source": [
        "Kode tersebut digunakan untuk membuat bobot (weights) untuk setiap kelas dalam suatu dataset. Dalam proses ini, sebuah kamus (`classes_weights`) dibuat, di mana setiap kelas diberikan bobot berdasarkan perbandingan antara nilai maksimum dari total kelas dengan nilai total kelas pada kelas tersebut. Iterasi dilakukan melalui indeks kelas dari 0 hingga jumlah total kelas, dan bobot untuk setiap kelas dihitung dengan membagi nilai maksimum total kelas dengan nilai total kelas pada kelas tersebut. Hasilnya adalah kamus `classes_weights` yang berisi bobot untuk masing-masing kelas. Akhirnya, kode tersebut mencetak atau mengembalikan nilai `classes_weights` yang berisi informasi bobot untuk setiap kelas."
      ]
    },
    {
      "cell_type": "markdown",
      "metadata": {
        "id": "VtDS1O6JwSQ5"
      },
      "source": [
        "# Split Data to Train and Test"
      ]
    },
    {
      "cell_type": "code",
      "execution_count": 40,
      "metadata": {
        "id": "rV62GJySwM2z"
      },
      "outputs": [],
      "source": [
        "X_train, X_test, y_train, y_test = train_test_split(data, labels, test_size = 0.2, random_state = 1, stratify = labels)"
      ]
    },
    {
      "cell_type": "markdown",
      "metadata": {
        "id": "FpCHLc2SJsfG"
      },
      "source": [
        "\n",
        "\n",
        "Penjelasan Kode:\n",
        "- `train_test_split(data, labels, test_size=0.2, random_state=1, stratify=labels)`: Metode dari scikit-learn untuk membagi dataset menjadi dua bagian, data latih dan uji.\n",
        "  - `data`: Dataset yang akan dibagi.\n",
        "  - `labels`: Label yang sesuai dengan dataset.\n",
        "  - `test_size=0.2`: Menentukan proporsi data yang akan digunakan sebagai data uji, dalam hal ini 20% dari total data.\n",
        "  - `random_state=1`: Memberikan nilai seed agar pembagian data dapat direproduksi.\n",
        "  - `stratify=labels`: Memastikan bahwa pembagian data mempertahankan proporsi kelas yang sama seperti dataset awal.\n",
        "- `X_train, X_test, y_train, y_test`: Variabel yang menyimpan hasil dari pemisahan data, di mana `X_train` dan `y_train` adalah data latih, sedangkan `X_test` dan `y_test` adalah data uji."
      ]
    },
    {
      "cell_type": "markdown",
      "metadata": {
        "id": "q7Hs5GwGxw4E"
      },
      "source": [
        "## Create Data Augmentation"
      ]
    },
    {
      "cell_type": "code",
      "execution_count": 41,
      "metadata": {
        "id": "Xn1jiVn9x2Gx"
      },
      "outputs": [],
      "source": [
        "# Import library\n",
        "from tensorflow.keras.preprocessing.image import ImageDataGenerator"
      ]
    },
    {
      "cell_type": "code",
      "execution_count": 42,
      "metadata": {
        "id": "su41P3box6Zm"
      },
      "outputs": [],
      "source": [
        "augmentation = ImageDataGenerator(rotation_range = 10, zoom_range=0.05, width_shift_range=0.1,\n",
        "                                  height_shift_range=0.1, horizontal_flip = False)"
      ]
    },
    {
      "cell_type": "markdown",
      "metadata": {
        "id": "GYwIT1TZw8SM"
      },
      "source": [
        "# Build CNN Model"
      ]
    },
    {
      "cell_type": "code",
      "execution_count": 43,
      "metadata": {
        "id": "nvQ2Ly4zwX8z"
      },
      "outputs": [],
      "source": [
        "# Import library\n",
        "from tensorflow.keras.models import Sequential\n",
        "from tensorflow.keras.layers import Conv2D, MaxPool2D, Flatten, Dense\n",
        "from tensorflow.keras.callbacks import ModelCheckpoint"
      ]
    },
    {
      "cell_type": "markdown",
      "metadata": {
        "id": "JoMzJv0ZJ-sV"
      },
      "source": [
        "Penjelasan Kode:\n",
        "\n",
        "from tensorflow.keras.preprocessing.image import ImageDataGenerator: Mengimpor kelas ImageDataGenerator dari modul preprocessing.image yang disediakan oleh Keras dalam TensorFlow. ImageDataGenerator digunakan untuk melakukan augmentasi gambar secara otomatis, seperti rotasi, zoom, dan flipping, yang dapat membantu dalam meningkatkan variasi dataset untuk pelatihan model."
      ]
    },
    {
      "cell_type": "code",
      "execution_count": 44,
      "metadata": {
        "id": "icRreUChxAwF"
      },
      "outputs": [],
      "source": [
        "# Build the network\n",
        "network = Sequential()\n",
        "\n",
        "network.add(Conv2D(filters = 32, kernel_size=(3,3), activation='relu', input_shape=(28,28,1)))\n",
        "network.add(MaxPool2D(pool_size=(2,2)))\n",
        "\n",
        "network.add(Conv2D(filters = 64, kernel_size=(3,3), activation='relu', padding='same'))\n",
        "network.add(MaxPool2D(pool_size=(2,2)))\n",
        "\n",
        "network.add(Conv2D(filters = 128, kernel_size=(3,3), activation='relu', padding='valid'))\n",
        "network.add(MaxPool2D(pool_size=(2,2)))\n",
        "\n",
        "network.add(Flatten())\n",
        "\n",
        "network.add(Dense(64, activation = 'relu'))\n",
        "network.add(Dense(128, activation = 'relu'))\n",
        "\n",
        "network.add(Dense(36, activation='softmax'))\n",
        "\n",
        "network.compile(loss = 'categorical_crossentropy', optimizer = 'adam', metrics = ['accuracy'])"
      ]
    },
    {
      "cell_type": "markdown",
      "metadata": {
        "id": "e3o_CB1TGrmF"
      },
      "source": [
        "Penjelasan Kode:\n",
        "- `Sequential()`: Membuat model sequential untuk menambahkan layer secara berurutan.\n",
        "- `Conv2D()`: Menambahkan layer konvolusi dengan jumlah filter, ukuran kernel, dan fungsi aktivasi tertentu.\n",
        "- `MaxPool2D()`: Menambahkan layer max pooling untuk mengurangi dimensi spasial.\n",
        "- `Flatten()`: Meratakan output dari layer sebelumnya menjadi satu dimensi.\n",
        "- `Dense()`: Menambahkan layer fully connected dengan jumlah neuron dan fungsi aktivasi tertentu.\n",
        "- `compile()`: Mengompilasi model dengan menentukan fungsi loss, optimizer, dan metrik evaluasi."
      ]
    },
    {
      "cell_type": "code",
      "execution_count": 45,
      "metadata": {
        "colab": {
          "base_uri": "https://localhost:8080/"
        },
        "id": "nAuCYbRWxIKl",
        "outputId": "1259cfef-300b-4100-e797-616cb2e219cd"
      },
      "outputs": [
        {
          "output_type": "stream",
          "name": "stdout",
          "text": [
            "Model: \"sequential\"\n",
            "_________________________________________________________________\n",
            " Layer (type)                Output Shape              Param #   \n",
            "=================================================================\n",
            " conv2d (Conv2D)             (None, 26, 26, 32)        320       \n",
            "                                                                 \n",
            " max_pooling2d (MaxPooling2  (None, 13, 13, 32)        0         \n",
            " D)                                                              \n",
            "                                                                 \n",
            " conv2d_1 (Conv2D)           (None, 13, 13, 64)        18496     \n",
            "                                                                 \n",
            " max_pooling2d_1 (MaxPoolin  (None, 6, 6, 64)          0         \n",
            " g2D)                                                            \n",
            "                                                                 \n",
            " conv2d_2 (Conv2D)           (None, 4, 4, 128)         73856     \n",
            "                                                                 \n",
            " max_pooling2d_2 (MaxPoolin  (None, 2, 2, 128)         0         \n",
            " g2D)                                                            \n",
            "                                                                 \n",
            " flatten (Flatten)           (None, 512)               0         \n",
            "                                                                 \n",
            " dense (Dense)               (None, 64)                32832     \n",
            "                                                                 \n",
            " dense_1 (Dense)             (None, 128)               8320      \n",
            "                                                                 \n",
            " dense_2 (Dense)             (None, 36)                4644      \n",
            "                                                                 \n",
            "=================================================================\n",
            "Total params: 138468 (540.89 KB)\n",
            "Trainable params: 138468 (540.89 KB)\n",
            "Non-trainable params: 0 (0.00 Byte)\n",
            "_________________________________________________________________\n"
          ]
        }
      ],
      "source": [
        "# Check network summary\n",
        "network.summary()"
      ]
    },
    {
      "cell_type": "markdown",
      "source": [
        "Pernyataan `network.summary()` digunakan untuk menampilkan ringkasan (summary) dari arsitektur dan parameter dari model neural network yang disebut \"network\". Fungsi `summary` pada model keras memberikan informasi tentang lapisan-lapisan yang ada dalam model, jumlah parameter yang dapat diatur, dan bentuk keluaran dari setiap lapisan. Melihat summary ini memberikan wawasan cepat tentang struktur model, jumlah parameter yang perlu di-train, serta ukuran keluaran dari setiap lapisan. Ini berguna untuk memahami dan memverifikasi bahwa model yang akan digunakan sesuai dengan ekspektasi sebelum dimulai pelatihan atau evaluasi."
      ],
      "metadata": {
        "id": "fx93E_IMr11Y"
      }
    },
    {
      "cell_type": "code",
      "execution_count": 46,
      "metadata": {
        "colab": {
          "base_uri": "https://localhost:8080/"
        },
        "id": "o7Vc4ly2xMhk",
        "outputId": "b8f35aab-db90-48b9-851a-6df3516e2881"
      },
      "outputs": [
        {
          "output_type": "stream",
          "name": "stdout",
          "text": [
            "['0', '1', '2', '3', '4', '5', '6', '7', '8', '9', 'A', 'B', 'C', 'D', 'E', 'F', 'G', 'H', 'I', 'J', 'K', 'L', 'M', 'N', 'O', 'P', 'Q', 'R', 'S', 'T', 'U', 'V', 'W', 'X', 'Y', 'Z']\n"
          ]
        }
      ],
      "source": [
        "# Create actual labels\n",
        "name_labels = '0123456789'\n",
        "name_labels += 'ABCDEFGHIJKLMNOPQRSTUVWXYZ'\n",
        "name_labels = [l for l in name_labels]\n",
        "\n",
        "# Check actual label\n",
        "print(name_labels)"
      ]
    },
    {
      "cell_type": "markdown",
      "metadata": {
        "id": "JSAjYPugG20c"
      },
      "source": [
        "\n",
        "Penjelasan Kode:\n",
        "- `name_labels = '0123456789'`: Inisialisasi string dengan angka 0-9.\n",
        "- `name_labels += 'ABCDEFGHIJKLMNOPQRSTUVWXYZ'`: Menambahkan huruf besar A-Z ke dalam string `name_labels`.\n",
        "- `name_labels = [l for l in name_labels]`: Mengonversi string `name_labels` menjadi list karakter.\n",
        "- `print(name_labels)`: Menampilkan label aktual yang telah dibuat, yang terdiri dari angka 0-9 dan huruf besar A-Z."
      ]
    },
    {
      "cell_type": "markdown",
      "metadata": {
        "id": "DH7hSW38xX6e"
      },
      "source": [
        "## Train model"
      ]
    },
    {
      "cell_type": "code",
      "execution_count": 47,
      "metadata": {
        "id": "rNQ_-PY7xVRD"
      },
      "outputs": [],
      "source": [
        "# Set model name, epoch, and batch size\n",
        "file_model = 'custom_ocr.model'\n",
        "epochs = 20\n",
        "batch_size = 128"
      ]
    },
    {
      "cell_type": "markdown",
      "metadata": {
        "id": "Ni57gebyHGNC"
      },
      "source": [
        "Penjelasan Kode:\n",
        "\n",
        "file_model = 'custom_ocr.model': Menetapkan nama model sebagai 'custom_ocr.model'. Nama ini dapat disesuaikan sesuai kebutuhan.\n",
        "epochs = 20: Menetapkan jumlah epoch (iterasi) yang akan digunakan selama pelatihan model. Dalam hal ini, diatur sebagai 20.\n",
        "batch_size = 128: Menetapkan ukuran batch yang akan digunakan selama pelatihan. Dalam hal ini, diatur sebagai 128. Ukuran batch mengindikasikan jumlah sampel yang diteruskan melalui model sebelum pembaharuan bobot dilakukan."
      ]
    },
    {
      "cell_type": "code",
      "execution_count": 48,
      "metadata": {
        "id": "F8Orj5UQxdtr"
      },
      "outputs": [],
      "source": [
        "# Setup checkpoint\n",
        "checkpointer = ModelCheckpoint(file_model, monitor = 'val_loss', verbose = 1, save_best_only=True)"
      ]
    },
    {
      "cell_type": "code",
      "execution_count": 49,
      "metadata": {
        "colab": {
          "base_uri": "https://localhost:8080/"
        },
        "id": "enFAwiaxxkgx",
        "outputId": "2c68fcbc-08e8-44a7-f818-dee2b997ebc5"
      },
      "outputs": [
        {
          "output_type": "stream",
          "name": "stdout",
          "text": [
            "Epoch 1/20\n",
            "2765/2765 [==============================] - ETA: 0s - loss: 2.1786 - accuracy: 0.8259\n",
            "Epoch 1: val_loss improved from inf to 0.22308, saving model to custom_ocr.model\n",
            "2765/2765 [==============================] - 174s 58ms/step - loss: 2.1786 - accuracy: 0.8259 - val_loss: 0.2231 - val_accuracy: 0.9148\n",
            "Epoch 2/20\n",
            "2764/2765 [============================>.] - ETA: 0s - loss: 0.9915 - accuracy: 0.8996\n",
            "Epoch 2: val_loss improved from 0.22308 to 0.19735, saving model to custom_ocr.model\n",
            "2765/2765 [==============================] - 138s 50ms/step - loss: 0.9914 - accuracy: 0.8996 - val_loss: 0.1973 - val_accuracy: 0.9227\n",
            "Epoch 3/20\n",
            "2765/2765 [==============================] - ETA: 0s - loss: 0.8234 - accuracy: 0.9114\n",
            "Epoch 3: val_loss did not improve from 0.19735\n",
            "2765/2765 [==============================] - 130s 47ms/step - loss: 0.8234 - accuracy: 0.9114 - val_loss: 0.3049 - val_accuracy: 0.8633\n",
            "Epoch 4/20\n",
            "2764/2765 [============================>.] - ETA: 0s - loss: 0.7309 - accuracy: 0.9195\n",
            "Epoch 4: val_loss did not improve from 0.19735\n",
            "2765/2765 [==============================] - 141s 51ms/step - loss: 0.7310 - accuracy: 0.9195 - val_loss: 0.2233 - val_accuracy: 0.9085\n",
            "Epoch 5/20\n",
            "2764/2765 [============================>.] - ETA: 0s - loss: 0.6756 - accuracy: 0.9245\n",
            "Epoch 5: val_loss did not improve from 0.19735\n",
            "2765/2765 [==============================] - 136s 49ms/step - loss: 0.6756 - accuracy: 0.9245 - val_loss: 0.2398 - val_accuracy: 0.9057\n",
            "Epoch 6/20\n",
            "2765/2765 [==============================] - ETA: 0s - loss: 0.6267 - accuracy: 0.9289\n",
            "Epoch 6: val_loss did not improve from 0.19735\n",
            "2765/2765 [==============================] - 139s 50ms/step - loss: 0.6267 - accuracy: 0.9289 - val_loss: 0.2843 - val_accuracy: 0.8868\n",
            "Epoch 7/20\n",
            "2765/2765 [==============================] - ETA: 0s - loss: 0.5957 - accuracy: 0.9318\n",
            "Epoch 7: val_loss did not improve from 0.19735\n",
            "2765/2765 [==============================] - 136s 49ms/step - loss: 0.5957 - accuracy: 0.9318 - val_loss: 0.2567 - val_accuracy: 0.8935\n",
            "Epoch 8/20\n",
            "2765/2765 [==============================] - ETA: 0s - loss: 0.5662 - accuracy: 0.9336\n",
            "Epoch 8: val_loss did not improve from 0.19735\n",
            "2765/2765 [==============================] - 140s 51ms/step - loss: 0.5662 - accuracy: 0.9336 - val_loss: 0.2055 - val_accuracy: 0.9150\n",
            "Epoch 9/20\n",
            "2765/2765 [==============================] - ETA: 0s - loss: 0.5490 - accuracy: 0.9353\n",
            "Epoch 9: val_loss did not improve from 0.19735\n",
            "2765/2765 [==============================] - 130s 47ms/step - loss: 0.5490 - accuracy: 0.9353 - val_loss: 0.3079 - val_accuracy: 0.8727\n",
            "Epoch 10/20\n",
            "2765/2765 [==============================] - ETA: 0s - loss: 0.5216 - accuracy: 0.9365\n",
            "Epoch 10: val_loss did not improve from 0.19735\n",
            "2765/2765 [==============================] - 138s 50ms/step - loss: 0.5216 - accuracy: 0.9365 - val_loss: 0.2772 - val_accuracy: 0.8881\n",
            "Epoch 11/20\n",
            "2765/2765 [==============================] - ETA: 0s - loss: 0.5090 - accuracy: 0.9385\n",
            "Epoch 11: val_loss did not improve from 0.19735\n",
            "2765/2765 [==============================] - 132s 48ms/step - loss: 0.5090 - accuracy: 0.9385 - val_loss: 0.2254 - val_accuracy: 0.9087\n",
            "Epoch 12/20\n",
            "2765/2765 [==============================] - ETA: 0s - loss: 0.5003 - accuracy: 0.9400\n",
            "Epoch 12: val_loss did not improve from 0.19735\n",
            "2765/2765 [==============================] - 138s 50ms/step - loss: 0.5003 - accuracy: 0.9400 - val_loss: 0.3280 - val_accuracy: 0.8616\n",
            "Epoch 13/20\n",
            "2764/2765 [============================>.] - ETA: 0s - loss: 0.4835 - accuracy: 0.9411\n",
            "Epoch 13: val_loss did not improve from 0.19735\n",
            "2765/2765 [==============================] - 128s 46ms/step - loss: 0.4834 - accuracy: 0.9411 - val_loss: 0.2291 - val_accuracy: 0.9057\n",
            "Epoch 14/20\n",
            "2764/2765 [============================>.] - ETA: 0s - loss: 0.4776 - accuracy: 0.9415\n",
            "Epoch 14: val_loss did not improve from 0.19735\n",
            "2765/2765 [==============================] - 139s 50ms/step - loss: 0.4776 - accuracy: 0.9414 - val_loss: 0.2095 - val_accuracy: 0.9132\n",
            "Epoch 15/20\n",
            "2764/2765 [============================>.] - ETA: 0s - loss: 0.4561 - accuracy: 0.9439\n",
            "Epoch 15: val_loss did not improve from 0.19735\n",
            "2765/2765 [==============================] - 128s 46ms/step - loss: 0.4561 - accuracy: 0.9439 - val_loss: 0.2116 - val_accuracy: 0.9229\n",
            "Epoch 16/20\n",
            "2764/2765 [============================>.] - ETA: 0s - loss: 0.4531 - accuracy: 0.9444\n",
            "Epoch 16: val_loss did not improve from 0.19735\n",
            "2765/2765 [==============================] - 138s 50ms/step - loss: 0.4530 - accuracy: 0.9444 - val_loss: 0.2048 - val_accuracy: 0.9111\n",
            "Epoch 17/20\n",
            "2765/2765 [==============================] - ETA: 0s - loss: 0.4449 - accuracy: 0.9461\n",
            "Epoch 17: val_loss did not improve from 0.19735\n",
            "2765/2765 [==============================] - 133s 48ms/step - loss: 0.4449 - accuracy: 0.9461 - val_loss: 0.2412 - val_accuracy: 0.9097\n",
            "Epoch 18/20\n",
            "2765/2765 [==============================] - ETA: 0s - loss: 0.4404 - accuracy: 0.9467\n",
            "Epoch 18: val_loss improved from 0.19735 to 0.17821, saving model to custom_ocr.model\n",
            "2765/2765 [==============================] - 139s 50ms/step - loss: 0.4404 - accuracy: 0.9467 - val_loss: 0.1782 - val_accuracy: 0.9387\n",
            "Epoch 19/20\n",
            "2765/2765 [==============================] - ETA: 0s - loss: 0.4318 - accuracy: 0.9478\n",
            "Epoch 19: val_loss improved from 0.17821 to 0.16263, saving model to custom_ocr.model\n",
            "2765/2765 [==============================] - 132s 48ms/step - loss: 0.4318 - accuracy: 0.9478 - val_loss: 0.1626 - val_accuracy: 0.9415\n",
            "Epoch 20/20\n",
            "2765/2765 [==============================] - ETA: 0s - loss: 0.4240 - accuracy: 0.9483\n",
            "Epoch 20: val_loss did not improve from 0.16263\n",
            "2765/2765 [==============================] - 132s 48ms/step - loss: 0.4240 - accuracy: 0.9483 - val_loss: 0.1784 - val_accuracy: 0.9330\n"
          ]
        }
      ],
      "source": [
        "# Fit the model\n",
        "history = network.fit(augmentation.flow(X_train, y_train, batch_size=batch_size),\n",
        "                      validation_data = (X_test, y_test),\n",
        "                      steps_per_epoch = len(X_train) // batch_size, epochs=epochs,\n",
        "                      class_weight = classes_weights, verbose=1, callbacks=[checkpointer])"
      ]
    },
    {
      "cell_type": "markdown",
      "metadata": {
        "id": "lnsZamNPGPNM"
      },
      "source": [
        "Penjelasan Kode:\n",
        "- `augmentation.flow(X_train, y_train, batch_size=batch_size)`: Menggunakan generator augmentasi data untuk memberikan variasi pada data latih.\n",
        "- `validation_data=(X_test, y_test)`: Menggunakan data validasi selama pelatihan untuk memantau performa model.\n",
        "- `steps_per_epoch=len(X_train) // batch_size`: Menentukan jumlah langkah (batches) per epoch, disesuaikan dengan ukuran batch.\n",
        "- `epochs=epochs`: Menentukan jumlah epoch atau iterasi pelatihan.\n",
        "- `class_weight=classes_weights`: Menangani ketidakseimbangan kelas dengan memberikan bobot berdasarkan frekuensi kelas.\n",
        "- `verbose=1`: Mode verbosity agar informasi pelatihan ditampilkan selama pelatihan berlangsung.\n",
        "- `callbacks=[checkpointer]`: Menambahkan callback untuk menyimpan model (dalam hal ini, `checkpointer`).\n",
        "- `history`: Menyimpan riwayat pelatihan seperti akurasi dan loss untuk setiap epoch."
      ]
    },
    {
      "cell_type": "markdown",
      "metadata": {
        "id": "bM4mGoWL6jxk"
      },
      "source": [
        "# Evaluate Model"
      ]
    },
    {
      "cell_type": "markdown",
      "metadata": {
        "id": "ig0TiV6N7V29"
      },
      "source": [
        "## Make a Single Prediction"
      ]
    },
    {
      "cell_type": "markdown",
      "metadata": {
        "id": "5pbMkmvg7V0i"
      },
      "source": []
    },
    {
      "cell_type": "code",
      "execution_count": 50,
      "metadata": {
        "colab": {
          "base_uri": "https://localhost:8080/"
        },
        "id": "WDJUSW-l6lEl",
        "outputId": "619e5676-9a44-40ab-bad6-a8d1579b9846"
      },
      "outputs": [
        {
          "output_type": "stream",
          "name": "stdout",
          "text": [
            "692/692 [==============================] - 2s 2ms/step\n"
          ]
        }
      ],
      "source": [
        "# make a prediction\n",
        "predictions = network.predict(X_test, batch_size=batch_size)"
      ]
    },
    {
      "cell_type": "markdown",
      "metadata": {
        "id": "1rUQuEIAKyjz"
      },
      "source": [
        "Penjelasan Kode:\n",
        "\n",
        "network.predict(X_test, batch_size=batch_size): Menggunakan model neural network (network) untuk membuat prediksi pada data uji (X_test).\n",
        "predictions: Menyimpan hasil prediksi yang akan digunakan untuk evaluasi performa model. Prediksi ini dapat berupa nilai probabilitas untuk setiap kelas jika menggunakan fungsi aktivasi softmax pada layer output."
      ]
    },
    {
      "cell_type": "code",
      "execution_count": 51,
      "metadata": {
        "colab": {
          "base_uri": "https://localhost:8080/"
        },
        "id": "tQ5Ta4b96pEt",
        "outputId": "568d28e4-b35d-441d-8054-426c9950c1a7"
      },
      "outputs": [
        {
          "output_type": "execute_result",
          "data": {
            "text/plain": [
              "array([9.49803355e-18, 1.15153576e-07, 9.01856989e-09, 9.66740861e-14,\n",
              "       2.52641267e-12, 1.96519537e-11, 1.00864501e-17, 5.06152134e-11,\n",
              "       6.70961604e-13, 4.57640517e-14, 2.10427907e-13, 1.71579652e-16,\n",
              "       5.80858868e-11, 6.54290977e-09, 1.54387245e-13, 7.72232908e-15,\n",
              "       2.32871170e-11, 1.59407626e-11, 9.98946846e-01, 1.05251465e-03,\n",
              "       1.13308495e-11, 2.99730125e-08, 4.19231630e-15, 4.33026092e-13,\n",
              "       4.54726968e-12, 1.98625865e-13, 5.00290051e-17, 2.16209514e-14,\n",
              "       4.09307199e-10, 6.23821791e-07, 1.29962180e-10, 1.85101077e-14,\n",
              "       1.60974871e-13, 2.83118917e-10, 3.32144284e-10, 1.70842984e-08],\n",
              "      dtype=float32)"
            ]
          },
          "metadata": {},
          "execution_count": 51
        }
      ],
      "source": [
        "# Check prediction for data-0\n",
        "# You will get the probability for each label\n",
        "# The highest one is the prediction\n",
        "predictions[1]"
      ]
    },
    {
      "cell_type": "markdown",
      "metadata": {
        "id": "MetdNBKkK_WB"
      },
      "source": [
        "Penjelasan Kode:\n",
        "\n",
        "predictions[1]: Mengakses hasil prediksi untuk data yang berindeks 1 dari array predictions.\n",
        "Hasilnya berupa nilai probabilitas untuk setiap kelas (label). Prediksi final dapat diambil dengan memilih label yang memiliki probabilitas tertinggi, karena label tersebut dianggap sebagai prediksi dari model untuk data tersebut."
      ]
    },
    {
      "cell_type": "code",
      "execution_count": 52,
      "metadata": {
        "colab": {
          "base_uri": "https://localhost:8080/"
        },
        "id": "9THTrYAH64g8",
        "outputId": "da1581c0-285b-4938-bc12-279230647cd5"
      },
      "outputs": [
        {
          "output_type": "execute_result",
          "data": {
            "text/plain": [
              "18"
            ]
          },
          "metadata": {},
          "execution_count": 52
        }
      ],
      "source": [
        "# Get the actual prediction -> highest probability\n",
        "np.argmax(predictions[1])"
      ]
    },
    {
      "cell_type": "markdown",
      "source": [
        "Kode di atas tersebut bertujuan untuk mendapatkan prediksi aktual dari model dengan memilih label yang memiliki probabilitas tertinggi. Pernyataan `np.argmax(predictions[1])` menggunakan fungsi `np.argmax` dari NumPy untuk mengembalikan indeks dengan nilai tertinggi dari array `predictions[1]`. Dalam konteks ini, `predictions[1]` mungkin merupakan array hasil prediksi dari suatu model, dan `np.argmax` digunakan untuk menentukan label yang memiliki probabilitas paling tinggi di antara semua label yang mungkin. Dengan cara ini, kita dapat mendapatkan prediksi aktual model berdasarkan label dengan probabilitas tertinggi pada gambar atau data tertentu."
      ],
      "metadata": {
        "id": "Tw_04HZJqMLf"
      }
    },
    {
      "cell_type": "code",
      "execution_count": 53,
      "metadata": {
        "colab": {
          "base_uri": "https://localhost:8080/",
          "height": 35
        },
        "id": "pG6n2eTI6-Ly",
        "outputId": "b6f51a58-ca24-4f6d-ccaf-1a07d9be0523"
      },
      "outputs": [
        {
          "output_type": "execute_result",
          "data": {
            "text/plain": [
              "'I'"
            ],
            "application/vnd.google.colaboratory.intrinsic+json": {
              "type": "string"
            }
          },
          "metadata": {},
          "execution_count": 53
        }
      ],
      "source": [
        "# Check label for 24\n",
        "name_labels[18]"
      ]
    },
    {
      "cell_type": "markdown",
      "source": [
        "Pernyataan `name_labels[18]` memiliki tujuan untuk mengecek label yang berkaitan dengan indeks 18 dalam struktur data `name_labels`. Dalam konteks ini, `name_labels` mungkin merupakan suatu array atau struktur data yang menyimpan label-label yang sesuai dengan indeks tertentu. Dengan menggunakan indeks 18, kode ini mencoba mendapatkan label yang berkorespondensi dengan angka 18 dalam suatu aplikasi atau skenario tertentu. Jadi, pernyataan ini digunakan untuk mengevaluasi atau mengetahui label yang terkait dengan angka 18 dalam konteks spesifik yang mungkin berkaitan dengan hasil prediksi atau klasifikasi dari suatu model atau algoritma tertentu."
      ],
      "metadata": {
        "id": "hJi2KU8TqVHH"
      }
    },
    {
      "cell_type": "code",
      "execution_count": 54,
      "metadata": {
        "colab": {
          "base_uri": "https://localhost:8080/"
        },
        "id": "chDSvyYq7Bxq",
        "outputId": "45128dd4-e0e8-46a3-c87d-0abd70c7245e"
      },
      "outputs": [
        {
          "output_type": "execute_result",
          "data": {
            "text/plain": [
              "array([0, 0, 0, 0, 0, 0, 0, 0, 0, 0, 0, 0, 0, 0, 0, 0, 0, 0, 1, 0, 0, 0,\n",
              "       0, 0, 0, 0, 0, 0, 0, 0, 0, 0, 0, 0, 0, 0])"
            ]
          },
          "metadata": {},
          "execution_count": 54
        }
      ],
      "source": [
        "# Check y_test label for 0\n",
        "y_test[1]"
      ]
    },
    {
      "cell_type": "markdown",
      "source": [
        "Pernyataan `y_test[1]` bertujuan untuk mengecek label yang terkait dengan data uji (y_test) pada indeks 1. Dalam konteks ini, `y_test` mungkin adalah suatu array atau struktur data yang berisi label atau kelas yang sesuai dengan data uji tertentu. Dengan menggunakan indeks 1, pernyataan ini mencoba untuk mendapatkan label yang terkait dengan data uji pada posisi tersebut. Ini umumnya dilakukan untuk memeriksa label aktual dari suatu data uji dan membandingkannya dengan prediksi model atau hasil yang diharapkan. Pernyataan ini memberikan informasi tentang label yang diberikan pada indeks 1 dalam set data uji."
      ],
      "metadata": {
        "id": "ClQWfPGbqcDg"
      }
    },
    {
      "cell_type": "code",
      "execution_count": 55,
      "metadata": {
        "colab": {
          "base_uri": "https://localhost:8080/"
        },
        "id": "BpoE99Us7KpZ",
        "outputId": "291fdf8d-7d29-4af2-f3cf-23b43c24d1ba"
      },
      "outputs": [
        {
          "output_type": "execute_result",
          "data": {
            "text/plain": [
              "18"
            ]
          },
          "metadata": {},
          "execution_count": 55
        }
      ],
      "source": [
        "# check the highest value\n",
        "np.argmax(y_test[1])"
      ]
    },
    {
      "cell_type": "markdown",
      "source": [
        "Pernyataan `np.argmax(y_test[1])` bertujuan untuk mengecek nilai tertinggi (indeks dengan nilai paling tinggi) dalam array atau struktur data `y_test` pada indeks 1. Dalam konteks ini, `y_test` mungkin merupakan suatu array yang menyimpan nilai-nilai atau probabilitas terkait dengan kelas atau label tertentu dari data uji. Dengan menggunakan `np.argmax`, kode ini mencari indeks yang memiliki nilai tertinggi pada array `y_test[1]`. Hal ini umumnya digunakan untuk mendapatkan label atau kelas yang memiliki probabilitas paling tinggi atau nilai terbesar dalam prediksi model untuk suatu data uji tertentu."
      ],
      "metadata": {
        "id": "IEFTh8uDqi3g"
      }
    },
    {
      "cell_type": "code",
      "execution_count": 56,
      "metadata": {
        "colab": {
          "base_uri": "https://localhost:8080/",
          "height": 35
        },
        "id": "KjJRX1lC7Ppw",
        "outputId": "8e7241a9-eba2-415c-d18e-a83c1f297bd1"
      },
      "outputs": [
        {
          "output_type": "execute_result",
          "data": {
            "text/plain": [
              "'S'"
            ],
            "application/vnd.google.colaboratory.intrinsic+json": {
              "type": "string"
            }
          },
          "metadata": {},
          "execution_count": 56
        }
      ],
      "source": [
        "# Check the label of y_test 0\n",
        "name_labels[np.argmax(y_test[18])]"
      ]
    },
    {
      "cell_type": "markdown",
      "source": [
        "Pernyataan `name_labels[np.argmax(y_test[18])]` bertujuan untuk mengecek label yang terkait dengan nilai tertinggi dalam array atau struktur data `y_test` pada indeks 18. Dalam konteks ini, `y_test` mungkin berisi nilai-nilai atau probabilitas yang terkait dengan kelas atau label tertentu dari data uji pada indeks 18. Dengan menggunakan `np.argmax`, kita mencari indeks yang memiliki nilai tertinggi pada array `y_test[18]`. Kemudian, nilai indeks tersebut digunakan sebagai indeks untuk mengakses label yang terkait dari `name_labels`. Ini umumnya dilakukan untuk mendapatkan label atau kelas yang memiliki probabilitas paling tinggi atau nilai terbesar dalam prediksi model untuk suatu data uji tertentu pada indeks 18."
      ],
      "metadata": {
        "id": "l_v9mUqKqprZ"
      }
    },
    {
      "cell_type": "markdown",
      "metadata": {
        "id": "_xFS3-cs7a0x"
      },
      "source": [
        "## Make an Evaluation on Test Data"
      ]
    },
    {
      "cell_type": "code",
      "execution_count": 57,
      "metadata": {
        "colab": {
          "base_uri": "https://localhost:8080/"
        },
        "id": "t-rko8WP7TYA",
        "outputId": "dfa1bc57-adf8-4e15-f7c8-9fb0ea692e28"
      },
      "outputs": [
        {
          "output_type": "stream",
          "name": "stdout",
          "text": [
            "2766/2766 [==============================] - 9s 3ms/step - loss: 0.1784 - accuracy: 0.9330\n"
          ]
        },
        {
          "output_type": "execute_result",
          "data": {
            "text/plain": [
              "[0.17836540937423706, 0.932952880859375]"
            ]
          },
          "metadata": {},
          "execution_count": 57
        }
      ],
      "source": [
        "# Evaluate on test data\n",
        "network.evaluate(X_test, y_test)"
      ]
    },
    {
      "cell_type": "markdown",
      "source": [
        "Pernyataan `network.evaluate(X_test, y_test)` digunakan untuk mengevaluasi kinerja suatu model neural network (`network`) pada data uji (`X_test` dan `y_test`). Dalam konteks ini, `X_test` mungkin berisi fitur atau input dari data uji, dan `y_test` berisi label atau output yang seharusnya diprediksi oleh model untuk data tersebut. Fungsi `evaluate` digunakan untuk mengukur kinerja model dengan menghitung metrik evaluasi yang telah ditentukan, seperti akurasi, loss, atau metrik lainnya, tergantung pada konfigurasi model. Hasil evaluasi dapat memberikan pemahaman tentang seberapa baik model mampu menggeneralisasi pada data yang tidak terlihat sebelumnya."
      ],
      "metadata": {
        "id": "XaRG_jEHqvqJ"
      }
    },
    {
      "cell_type": "code",
      "execution_count": 58,
      "metadata": {
        "colab": {
          "base_uri": "https://localhost:8080/"
        },
        "id": "VkQtgoCq7gx2",
        "outputId": "dc4f7579-a044-491b-fdb3-f49427eff873"
      },
      "outputs": [
        {
          "output_type": "stream",
          "name": "stdout",
          "text": [
            "              precision    recall  f1-score   support\n",
            "\n",
            "           0       0.26      0.81      0.39      1381\n",
            "           1       0.97      0.99      0.98      1575\n",
            "           2       0.84      0.98      0.90      1398\n",
            "           3       0.92      0.99      0.96      1428\n",
            "           4       0.88      0.98      0.93      1365\n",
            "           5       0.79      0.92      0.85      1263\n",
            "           6       0.96      0.96      0.96      1375\n",
            "           7       0.94      0.99      0.97      1459\n",
            "           8       0.95      0.98      0.97      1365\n",
            "           9       0.95      0.98      0.96      1392\n",
            "           A       0.99      0.99      0.99      2774\n",
            "           B       0.98      0.97      0.97      1734\n",
            "           C       0.99      0.98      0.99      4682\n",
            "           D       0.89      0.96      0.93      2027\n",
            "           E       0.99      0.98      0.99      2288\n",
            "           F       0.98      0.98      0.98       233\n",
            "           G       0.98      0.94      0.96      1152\n",
            "           H       0.98      0.95      0.97      1444\n",
            "           I       0.98      0.89      0.93       224\n",
            "           J       0.87      0.99      0.92      1698\n",
            "           K       0.98      0.97      0.98      1121\n",
            "           L       0.97      0.97      0.97      2317\n",
            "           M       0.99      0.99      0.99      2467\n",
            "           N       0.99      0.99      0.99      3802\n",
            "           O       0.97      0.72      0.82     11565\n",
            "           P       1.00      0.98      0.99      3868\n",
            "           Q       0.98      0.98      0.98      1162\n",
            "           R       0.99      0.97      0.98      2313\n",
            "           S       0.99      0.96      0.97      9684\n",
            "           T       1.00      0.97      0.99      4499\n",
            "           U       0.99      0.94      0.97      5801\n",
            "           V       0.95      0.99      0.97       836\n",
            "           W       0.97      0.99      0.98      2157\n",
            "           X       0.98      0.99      0.98      1254\n",
            "           Y       0.98      0.94      0.96      2172\n",
            "           Z       0.98      0.85      0.91      1215\n",
            "\n",
            "    accuracy                           0.93     88490\n",
            "   macro avg       0.94      0.96      0.94     88490\n",
            "weighted avg       0.96      0.93      0.94     88490\n",
            "\n"
          ]
        }
      ],
      "source": [
        "# Print Classification Report\n",
        "print(classification_report(y_test.argmax(axis=1), predictions.argmax(axis=1), target_names = name_labels))"
      ]
    },
    {
      "cell_type": "markdown",
      "source": [
        "Pernyataan `print(classification_report(y_test.argmax(axis=1), predictions.argmax(axis=1), target_names=name_labels))` digunakan untuk mencetak laporan klasifikasi yang menyajikan sejumlah metrik evaluasi kinerja model klasifikasi. Dalam hal ini, `y_test` berisi label aktual dari data uji, `predictions` berisi prediksi model, dan `name_labels` adalah daftar nama kelas yang sesuai dengan indeks pada label. Fungsi `classification_report` dari scikit-learn digunakan untuk menghasilkan laporan yang mencakup akurasi, presisi, recall, dan skor F1 untuk setiap kelas, serta statistik agregat seperti akurasi total dan rata-rata dari metrik-metrik tersebut. Laporan klasifikasi ini memberikan wawasan mendalam tentang kinerja model pada setiap kelas dan secara keseluruhan, membantu dalam mengevaluasi seberapa baik model dapat membedakan antar kelas dalam data uji."
      ],
      "metadata": {
        "id": "0KC1cEBPq25R"
      }
    },
    {
      "cell_type": "code",
      "execution_count": 59,
      "metadata": {
        "colab": {
          "base_uri": "https://localhost:8080/",
          "height": 447
        },
        "id": "mIETfqMu7nv1",
        "outputId": "783ddc25-3382-49fc-84c7-ff89fd602e78"
      },
      "outputs": [
        {
          "output_type": "execute_result",
          "data": {
            "text/plain": [
              "[<matplotlib.lines.Line2D at 0x785c7fb62170>]"
            ]
          },
          "metadata": {},
          "execution_count": 59
        },
        {
          "output_type": "display_data",
          "data": {
            "text/plain": [
              "<Figure size 640x480 with 1 Axes>"
            ],
            "image/png": "[encoded data removed]"
          },
          "metadata": {}
        }
      ],
      "source": [
        "# Visualize loss value for each epoch\n",
        "plt.plot(history.history['val_loss'])"
      ]
    },
    {
      "cell_type": "markdown",
      "source": [
        "Pernyataan `plt.plot(history.history['val_loss'])` digunakan untuk membuat visualisasi kurva perubahan nilai loss pada set validasi (validation set) untuk setiap epoch selama proses pelatihan model. Dalam konteks ini, `history` mungkin berisi informasi yang dikumpulkan selama pelatihan model, seperti nilai loss pada set pelatihan dan set validasi untuk setiap epoch. Dengan menggunakan `plt.plot`, kurva perubahan loss pada set validasi dapat ditampilkan secara grafis. Plot ini membantu analisis visual terhadap kinerja model, dan penurunan nilai loss pada set validasi yang berkesinambungan dapat mengindikasikan kemajuan dalam pelatihan model dan kemungkinan umumnya dalam meningkatkan kemampuan model untuk menggeneralisasi pada data yang tidak terlihat sebelumnya."
      ],
      "metadata": {
        "id": "rfGHpsU4q98r"
      }
    },
    {
      "cell_type": "code",
      "execution_count": 60,
      "metadata": {
        "colab": {
          "base_uri": "https://localhost:8080/"
        },
        "id": "mNUP1QP17vas",
        "outputId": "32540353-66a3-4f17-eb33-035654ccd056"
      },
      "outputs": [
        {
          "output_type": "execute_result",
          "data": {
            "text/plain": [
              "dict_keys(['loss', 'accuracy', 'val_loss', 'val_accuracy'])"
            ]
          },
          "metadata": {},
          "execution_count": 60
        }
      ],
      "source": [
        "# You can also check the another metrics\n",
        "history.history.keys()"
      ]
    },
    {
      "cell_type": "markdown",
      "source": [
        "Pernyataan `history.history.keys()` digunakan untuk mengecek kunci (keys) yang tersedia dalam objek `history`, yang mungkin berisi informasi yang dikumpulkan selama pelatihan model. Dengan menjalankan perintah ini, Anda dapat melihat daftar kunci yang mencakup berbagai metrik dan statistik yang dihitung selama pelatihan, seperti nilai loss pada set pelatihan dan set validasi, akurasi, serta metrik lainnya. Mengeksplore kunci-kunci ini membantu Anda untuk memahami informasi yang tersedia dan memilih metrik evaluasi yang paling relevan sesuai dengan kebutuhan analisis atau pemantauan kinerja model."
      ],
      "metadata": {
        "id": "MG85RlNErDPP"
      }
    },
    {
      "cell_type": "code",
      "execution_count": 61,
      "metadata": {
        "colab": {
          "base_uri": "https://localhost:8080/",
          "height": 447
        },
        "id": "VwEZzjEa716s",
        "outputId": "289db03b-c903-42de-b7fe-d2f13a79aef1"
      },
      "outputs": [
        {
          "output_type": "execute_result",
          "data": {
            "text/plain": [
              "[<matplotlib.lines.Line2D at 0x785c7fb1c970>]"
            ]
          },
          "metadata": {},
          "execution_count": 61
        },
        {
          "output_type": "display_data",
          "data": {
            "text/plain": [
              "<Figure size 640x480 with 1 Axes>"
            ],
            "image/png": "[encoded data removed]"
          },
          "metadata": {}
        }
      ],
      "source": [
        "# Check the model performance by validation accuracy\n",
        "plt.plot(history.history['val_accuracy'])"
      ]
    },
    {
      "cell_type": "markdown",
      "source": [
        "Pernyataan `plt.plot(history.history['val_accuracy'])` digunakan untuk membuat visualisasi kurva perubahan nilai akurasi pada set validasi (validation set) untuk setiap epoch selama proses pelatihan model. Dalam konteks ini, `history` mungkin berisi informasi yang dikumpulkan selama pelatihan model, seperti nilai akurasi pada set pelatihan dan set validasi untuk setiap epoch. Dengan menggunakan `plt.plot`, kurva perubahan akurasi pada set validasi dapat ditampilkan secara grafis. Plot ini membantu dalam memahami sejauh mana model mampu meningkatkan akurasi pada data yang tidak terlihat sebelumnya selama pelatihan. Jika kurva akurasi pada set validasi terus meningkat, itu dapat menunjukkan kemajuan yang baik dalam pembelajaran model."
      ],
      "metadata": {
        "id": "Jm6EPTLDrJXi"
      }
    },
    {
      "cell_type": "markdown",
      "metadata": {
        "id": "D0rviDyl79Bk"
      },
      "source": [
        "# Save The Model"
      ]
    },
    {
      "cell_type": "code",
      "execution_count": 62,
      "metadata": {
        "colab": {
          "base_uri": "https://localhost:8080/"
        },
        "id": "QZ4ftlmq76nC",
        "outputId": "7093e8a7-a42b-4c6a-fedd-340c6973e2ca"
      },
      "outputs": [
        {
          "output_type": "stream",
          "name": "stderr",
          "text": [
            "/usr/local/lib/python3.10/dist-packages/keras/src/engine/training.py:3079: UserWarning: You are saving your model as an HDF5 file via `model.save()`. This file format is considered legacy. We recommend using instead the native Keras format, e.g. `model.save('my_model.keras')`.\n",
            "  saving_api.save_model(\n"
          ]
        }
      ],
      "source": [
        "# The result will show in colab directory\n",
        "network.save('network', save_format= 'h5')"
      ]
    },
    {
      "cell_type": "markdown",
      "source": [
        "Pernyataan `network.save('network', save_format='h5')` digunakan untuk menyimpan model neural network (`network`) ke dalam file dengan format Hierarchical Data Format 5 (HDF5). Dalam konteks ini, model yang telah di-train atau dikonfigurasi sebelumnya akan disimpan dengan nama \"network\" di direktori tempat kode Colab sedang berjalan. Menyimpan model menjadi file memungkinkan untuk mengambil kembali dan menggunakan model tersebut di masa depan tanpa perlu melakukan pelatihan ulang. Format HDF5 umum digunakan untuk menyimpan dan memanipulasi data ilmiah yang kompleks, termasuk model neural network."
      ],
      "metadata": {
        "id": "Q9lRkJEErP53"
      }
    },
    {
      "cell_type": "markdown",
      "metadata": {
        "id": "A3EWZVrz0YDV"
      },
      "source": [
        "# Testing on Real Image"
      ]
    },
    {
      "cell_type": "code",
      "execution_count": 63,
      "metadata": {
        "id": "1wUedJB-0Z_q"
      },
      "outputs": [],
      "source": [
        "# Import library\n",
        "from tensorflow.keras.models import load_model"
      ]
    },
    {
      "cell_type": "code",
      "execution_count": 64,
      "metadata": {
        "id": "D6E24QOm0hiB"
      },
      "outputs": [],
      "source": [
        "# Load saved network\n",
        "load_network = load_model('network')"
      ]
    },
    {
      "cell_type": "markdown",
      "source": [
        "Pernyataan `load_network = load_model('network')` digunakan untuk memuat kembali model neural network yang sebelumnya disimpan dengan nama \"network\". Dalam konteks ini, `load_model` adalah fungsi yang digunakan untuk memuat model dari file. Setelah eksekusi pernyataan ini, model yang telah disimpan di file \"network\" akan dimuat kembali ke dalam variabel `load_network`, sehingga dapat digunakan kembali untuk melakukan prediksi atau evaluasi tanpa perlu menjalankan pelatihan model lagi. Proses memuat model menjadi kembali sangat berguna dalam situasi di mana model perlu diimplementasikan atau dievaluasi pada data baru setelah pelatihan selesai."
      ],
      "metadata": {
        "id": "6gfX8NxsrW1S"
      }
    },
    {
      "cell_type": "code",
      "execution_count": 65,
      "metadata": {
        "colab": {
          "base_uri": "https://localhost:8080/"
        },
        "id": "0cB7lmOc0nlR",
        "outputId": "d7dcb060-046d-4f59-b64c-01a8cc9c0cd3"
      },
      "outputs": [
        {
          "output_type": "stream",
          "name": "stdout",
          "text": [
            "Model: \"sequential\"\n",
            "_________________________________________________________________\n",
            " Layer (type)                Output Shape              Param #   \n",
            "=================================================================\n",
            " conv2d (Conv2D)             (None, 26, 26, 32)        320       \n",
            "                                                                 \n",
            " max_pooling2d (MaxPooling2  (None, 13, 13, 32)        0         \n",
            " D)                                                              \n",
            "                                                                 \n",
            " conv2d_1 (Conv2D)           (None, 13, 13, 64)        18496     \n",
            "                                                                 \n",
            " max_pooling2d_1 (MaxPoolin  (None, 6, 6, 64)          0         \n",
            " g2D)                                                            \n",
            "                                                                 \n",
            " conv2d_2 (Conv2D)           (None, 4, 4, 128)         73856     \n",
            "                                                                 \n",
            " max_pooling2d_2 (MaxPoolin  (None, 2, 2, 128)         0         \n",
            " g2D)                                                            \n",
            "                                                                 \n",
            " flatten (Flatten)           (None, 512)               0         \n",
            "                                                                 \n",
            " dense (Dense)               (None, 64)                32832     \n",
            "                                                                 \n",
            " dense_1 (Dense)             (None, 128)               8320      \n",
            "                                                                 \n",
            " dense_2 (Dense)             (None, 36)                4644      \n",
            "                                                                 \n",
            "=================================================================\n",
            "Total params: 138468 (540.89 KB)\n",
            "Trainable params: 138468 (540.89 KB)\n",
            "Non-trainable params: 0 (0.00 Byte)\n",
            "_________________________________________________________________\n"
          ]
        }
      ],
      "source": [
        "# Check summary\n",
        "load_network.summary()"
      ]
    },
    {
      "cell_type": "markdown",
      "source": [
        "Pernyataan `load_network.summary()` digunakan untuk menampilkan ringkasan (summary) arsitektur dan parameter dari model neural network yang telah dimuat kembali. Fungsi `summary` pada model keras memberikan informasi tentang lapisan-lapisan yang ada dalam model, jumlah parameter yang dapat diatur, dan bentuk keluaran dari setiap lapisan. Melihat summary ini memberikan wawasan cepat tentang struktur model, jumlah parameter yang perlu di-train, serta ukuran keluaran dari setiap lapisan. Hal ini berguna untuk memahami dan memverifikasi bahwa model yang dimuat sesuai dengan ekspektasi sebelum digunakan untuk tugas prediksi atau evaluasi."
      ],
      "metadata": {
        "id": "zmcdWwAFrh10"
      }
    },
    {
      "cell_type": "code",
      "execution_count": 69,
      "metadata": {
        "colab": {
          "base_uri": "https://localhost:8080/",
          "height": 317
        },
        "id": "hbnaTxZK07JW",
        "outputId": "397ff411-e78b-4ee4-c325-5b18a7f27426"
      },
      "outputs": [
        {
          "output_type": "display_data",
          "data": {
            "text/plain": [
              "<PIL.Image.Image image mode=RGB size=300x300>"
            ],
            "image/png": "[encoded data removed]"
          },
          "metadata": {}
        }
      ],
      "source": [
        "# Load Image\n",
        "import cv2\n",
        "from google.colab.patches import cv2_imshow\n",
        "\n",
        "img = cv2.imread('/content/drive/MyDrive/ML/img.png')\n",
        "cv2_imshow(img)"
      ]
    },
    {
      "cell_type": "markdown",
      "source": [
        "Pernyataan `img = cv2.imread('/content/drive/MyDrive/ML/img.png')` dan `cv2_imshow(img)` digunakan untuk memuat dan menampilkan gambar dari lokasi file yang ditentukan. Dalam konteks ini, gambar dibaca dari path '/content/drive/MyDrive/ML/img.png' menggunakan OpenCV (`cv2.imread`). Setelah itu, pernyataan `cv2_imshow(img)` digunakan untuk menampilkan gambar tersebut di Colab notebook, karena `cv2.imshow` tidak berfungsi langsung di lingkungan Colab. Proses ini memungkinkan untuk memvisualisasikan atau memeriksa gambar yang dimuat dalam notebook."
      ],
      "metadata": {
        "id": "RQoNlLyyrjy9"
      }
    },
    {
      "cell_type": "code",
      "execution_count": null,
      "metadata": {
        "id": "EfDOYN6D1OZ9"
      },
      "outputs": [],
      "source": [
        "# Check shape\n",
        "img.shape"
      ]
    },
    {
      "cell_type": "markdown",
      "source": [
        "Pernyataan `img.shape` digunakan untuk mengecek dimensi atau bentuk dari gambar yang telah dimuat sebelumnya. Dalam konteks ini, atribut `shape` pada array NumPy (representasi gambar oleh OpenCV) memberikan informasi tentang jumlah baris (tinggi), jumlah kolom (lebar), dan jumlah saluran warna (misalnya, 3 untuk gambar berwarna dengan saluran warna Red, Green, dan Blue). Hasil pernyataan ini memberikan pemahaman tentang struktur dan ukuran gambar yang sedang diolah, yang berguna untuk memastikan konsistensi dan kecocokan dengan proses atau model yang akan dijalankan."
      ],
      "metadata": {
        "id": "_bUfkl3Srq01"
      }
    },
    {
      "cell_type": "code",
      "execution_count": 71,
      "metadata": {
        "colab": {
          "base_uri": "https://localhost:8080/"
        },
        "id": "7e6w1zaL1RW7",
        "outputId": "a7de4020-e6d5-44fc-e3e0-def43404aeca"
      },
      "outputs": [
        {
          "output_type": "execute_result",
          "data": {
            "text/plain": [
              "(300, 300)"
            ]
          },
          "metadata": {},
          "execution_count": 71
        }
      ],
      "source": [
        "# Convert to gray\n",
        "gray_img = cv2.cvtColor(img, cv2.COLOR_BGR2GRAY)\n",
        "\n",
        "# check shape\n",
        "gray_img.shape"
      ]
    },
    {
      "cell_type": "markdown",
      "source": [
        "Kode di atas hanya mencetak bentuk dari gambar grayscale (gray_img). Properti shape pada array NumPy memberikan informasi tentang dimensi dari array. Untuk gambar grayscale, shape akan mengembalikan dua nilai: tinggi dan lebar gambar. Jika gambar berwarna, shape akan mengembalikan tiga nilai: tinggi, lebar, dan jumlah saluran warna (dalam hal ini 1 karena itu grayscale)."
      ],
      "metadata": {
        "id": "b2SBq-Czbk4D"
      }
    },
    {
      "cell_type": "code",
      "execution_count": 72,
      "metadata": {
        "colab": {
          "base_uri": "https://localhost:8080/",
          "height": 334
        },
        "id": "9_al0IF01c3q",
        "outputId": "4cbca012-fc66-496c-f858-8f6fab9f3fcd"
      },
      "outputs": [
        {
          "output_type": "display_data",
          "data": {
            "text/plain": [
              "<PIL.Image.Image image mode=L size=300x300>"
            ],
            "image/png": "[encoded data removed]"
          },
          "metadata": {}
        },
        {
          "output_type": "stream",
          "name": "stdout",
          "text": [
            "120.0\n"
          ]
        }
      ],
      "source": [
        "# Pre-process\n",
        "# Binary Threshold and Otsu\n",
        "value, thresh = cv2.threshold(gray_img, 0, 255, cv2.THRESH_BINARY + cv2.THRESH_OTSU)\n",
        "\n",
        "cv2_imshow(thresh)\n",
        "\n",
        "# print threshold value\n",
        "print(value)"
      ]
    },
    {
      "cell_type": "markdown",
      "source": [
        "Kode di atas melakukan proses pre-processing pada gambar menggunakan OpenCV. Pertama, gambar berwarna diubah menjadi gambar grayscale. Selanjutnya, dilakukan thresholding biner menggunakan metode Otsu, di mana nilai ambang optimal dihitung secara otomatis berdasarkan distribusi intensitas piksel. Hasilnya, gambar biner ditampilkan, dan nilai ambang yang digunakan dicetak. Proses ini dapat berguna dalam segmentasi gambar, di mana hanya piksel dengan intensitas tertentu yang diinginkan dipertahankan dalam gambar biner, sementara piksel lainnya dihapus."
      ],
      "metadata": {
        "id": "wP2K0bZSb1Ff"
      }
    },
    {
      "cell_type": "code",
      "execution_count": 73,
      "metadata": {
        "colab": {
          "base_uri": "https://localhost:8080/",
          "height": 45
        },
        "id": "dmjHswqd1wB5",
        "outputId": "af0c7b1c-bee7-488a-8823-6be80e487929"
      },
      "outputs": [
        {
          "output_type": "display_data",
          "data": {
            "text/plain": [
              "<PIL.Image.Image image mode=L size=28x28>"
            ],
            "image/png": "[encoded data removed]"
          },
          "metadata": {}
        }
      ],
      "source": [
        "# Resize image in order to match network input shape -> 28*28\n",
        "img_resize = cv2.resize(gray_img, (28,28))\n",
        "cv2_imshow(img_resize)"
      ]
    },
    {
      "cell_type": "markdown",
      "source": [
        "Kode di atas memiliki tujuan untuk mengubah ukuran gambar grayscale (`gray_img`) menjadi 28x28 piksel, yang sesuai dengan bentuk masukan (input) yang diharapkan oleh suatu jaringan neural atau model machine learning. Ini dilakukan menggunakan fungsi `cv2.resize`, yang menghasilkan gambar yang telah diubah ukurannya dan disimpan dalam variabel `img_resize`. Selanjutnya, gambar yang telah diresize ditampilkan menggunakan `cv2_imshow`. Proses ini berguna ketika kita perlu menyesuaikan ukuran gambar dengan persyaratan model, memastikan konsistensi dalam format masukan, dan mempersiapkan data untuk tahap pelatihan atau inferensi pada suatu model machine learning."
      ],
      "metadata": {
        "id": "b23xwhinb_lB"
      }
    },
    {
      "cell_type": "code",
      "execution_count": 74,
      "metadata": {
        "colab": {
          "base_uri": "https://localhost:8080/"
        },
        "id": "bZStKgUl2Kk_",
        "outputId": "d6ef2936-cf00-4acb-c710-246ced443a50"
      },
      "outputs": [
        {
          "output_type": "execute_result",
          "data": {
            "text/plain": [
              "(28, 28, 1)"
            ]
          },
          "metadata": {},
          "execution_count": 74
        }
      ],
      "source": [
        "# Convert to float 32\n",
        "# and extend the dimension since network input shape is 28*28*1\n",
        "img_input = img_resize.astype('float32') / 255 # also perform normalization\n",
        "img_input = np.expand_dims(img_input, axis=-1) # insert depth\n",
        "\n",
        "# check shape\n",
        "img_input.shape"
      ]
    },
    {
      "cell_type": "markdown",
      "source": [
        "Kode di atas berfungsi untuk mempersiapkan gambar yang telah diubah ukurannya (`img_resize`) sebagai masukan (input) untuk suatu jaringan neural. Pertama, gambar tersebut dikonversi menjadi tipe data float32 dan dinormalisasi dengan membaginya dengan 255. Hal ini dilakukan untuk mengubah rentang nilai piksel menjadi antara 0 dan 1, yang umum digunakan dalam proses pelatihan model. Selanjutnya, dimensi gambar diperluas dengan menambahkan dimensi kedalaman (depth) setara dengan 1 menggunakan `np.expand_dims`, karena masukan yang diharapkan oleh jaringan memiliki bentuk 28x28x1. Akhirnya, bentuk dari gambar input (`img_input`) dicetak untuk memastikan bahwa transformasi tersebut sesuai dengan kebutuhan model. Proses ini penting untuk mempersiapkan data yang sesuai dengan persyaratan masukan model dan memastikan bahwa nilai piksel berada dalam skala yang tepat untuk pelatihan efektif."
      ],
      "metadata": {
        "id": "hbt3LJ6ncIIw"
      }
    },
    {
      "cell_type": "code",
      "execution_count": 75,
      "metadata": {
        "colab": {
          "base_uri": "https://localhost:8080/"
        },
        "id": "7Xs7JwKj2lxr",
        "outputId": "0bbe6779-eb99-484b-be94-d31101036c37"
      },
      "outputs": [
        {
          "output_type": "execute_result",
          "data": {
            "text/plain": [
              "(1, 28, 28, 1)"
            ]
          },
          "metadata": {},
          "execution_count": 75
        }
      ],
      "source": [
        "# Add \"amount of data\" as dimension\n",
        "img_input = np.reshape(img_input, (1,28,28,1))\n",
        "img_input.shape"
      ]
    },
    {
      "cell_type": "markdown",
      "source": [
        "Kode di atas bertujuan untuk menambah dimensi \"jumlah data\" pada gambar input (`img_input`) agar sesuai dengan format masukan (input) yang diterima oleh banyak model neural. Dengan menggunakan `np.reshape`, gambar input diubah menjadi bentuk (1, 28, 28, 1), di mana dimensi pertama (1) menunjukkan jumlah data (gambar) dalam satu batch, dimensi kedua dan ketiga (28, 28) menyatakan dimensi spatiaI gambar, dan dimensi terakhir (1) mengindikasikan kedalaman atau channel gambar. Langkah ini umumnya diperlukan karena banyak model neural memproses data dalam bentuk batch, dan menambah dimensi batch diperlukan untuk menyelaraskan struktur data dengan persyaratan masukan model. Setelah transformasi ini, bentuk dari gambar input dicetak untuk memastikan bahwa dimensi-data sesuai dengan harapan model."
      ],
      "metadata": {
        "id": "DrrP4vjbcTrq"
      }
    },
    {
      "cell_type": "code",
      "execution_count": 76,
      "metadata": {
        "colab": {
          "base_uri": "https://localhost:8080/"
        },
        "id": "fZLWIWLs2yuX",
        "outputId": "8edc6c17-c4fa-4496-f94e-31dfb1fe7459"
      },
      "outputs": [
        {
          "output_type": "stream",
          "name": "stdout",
          "text": [
            "1/1 [==============================] - 0s 150ms/step\n"
          ]
        },
        {
          "output_type": "execute_result",
          "data": {
            "text/plain": [
              "5"
            ]
          },
          "metadata": {},
          "execution_count": 76
        }
      ],
      "source": [
        "# Make a predition\n",
        "prediction = load_network.predict(img_input)\n",
        "pred_label = np.argmax(prediction) # predict actual label\n",
        "pred_label"
      ]
    },
    {
      "cell_type": "markdown",
      "source": [
        "Kode diatas bertujuan untuk membuat prediksi menggunakan suatu model jaringan neural yang telah dimuat sebelumnya. Dengan menggunakan metode `predict` pada objek model (`load_network`), gambar input (`img_input`) yang telah diubah ukurannya dan dipersiapkan sesuai format masukan model, digunakan untuk menghasilkan prediksi. Hasil prediksi disimpan dalam variabel `prediction`. Selanjutnya, menggunakan `np.argmax`, label prediksi aktual diambil berdasarkan nilai tertinggi dalam distribusi probabilitas hasil prediksi. Nilai label prediksi ini disimpan dalam variabel `pred_label` dan dapat digunakan untuk mengetahui kelas atau kategori yang diprediksi oleh model untuk gambar input tertentu. Proses ini umumnya dilakukan saat menguji kinerja model setelah pelatihan, dan label prediksi dapat digunakan untuk evaluasi atau keperluan lainnya tergantung pada konteks aplikasinya."
      ],
      "metadata": {
        "id": "SITAHa-JcdZS"
      }
    },
    {
      "cell_type": "code",
      "execution_count": 77,
      "metadata": {
        "colab": {
          "base_uri": "https://localhost:8080/",
          "height": 35
        },
        "id": "72Pl04hq3WNz",
        "outputId": "fea7efd2-62f8-444a-b8d2-df1413505ab2"
      },
      "outputs": [
        {
          "output_type": "execute_result",
          "data": {
            "text/plain": [
              "'6'"
            ],
            "application/vnd.google.colaboratory.intrinsic+json": {
              "type": "string"
            }
          },
          "metadata": {},
          "execution_count": 77
        }
      ],
      "source": [
        "# check label for 6\n",
        "name_labels[6]"
      ]
    },
    {
      "cell_type": "markdown",
      "source": [
        "## **Hasil Analisis**\n",
        "\n",
        "Dari evaluasi model Convolutional Neural Network (CNN) yang telah di-train sebelumnya, meskipun mencapai tingkat akurasi yang tinggi sekitar 0.96, ternyata prediksi yang dihasilkan masih belum akurat untuk citra berupa huruf 'b kecil' yang digunakan sebagai input. Keakuratan yang kurang ini kemungkinan disebabkan oleh kesamaan visual antara huruf 'b' dan angka '6', menyebabkan model memberikan prediksi yang didasarkan pada label pada indeks ke-6 dalam struktur data `name_labels` dengan nilai '6'. Fenomena ini menunjukkan tantangan yang mungkin dihadapi model dalam membedakan antara kedua karakter tersebut, dan dapat memicu perluasan dataset pelatihan atau penyesuaian pada model untuk meningkatkan keakuratannya dalam mengidentifikasi kasus semacam ini."
      ],
      "metadata": {
        "id": "JPHB5X75pfW1"
      }
    }
  ],
  "metadata": {
    "accelerator": "GPU",
    "colab": {
      "machine_shape": "hm",
      "provenance": [],
      "include_colab_link": true
    },
    "kernelspec": {
      "display_name": "Python 3",
      "name": "python3"
    },
    "language_info": {
      "codemirror_mode": {
        "name": "ipython",
        "version": 3
      },
      "file_extension": ".py",
      "mimetype": "text/x-python",
      "name": "python",
      "nbconvert_exporter": "python",
      "pygments_lexer": "ipython3",
      "version": "3.11.5"
    }
  },
  "nbformat": 4,
  "nbformat_minor": 0
}